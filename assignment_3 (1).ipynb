{
 "cells": [
  {
   "cell_type": "markdown",
   "id": "55b81215",
   "metadata": {},
   "source": [
    "1. Why are functions advantageous to have in your programs?"
   ]
  },
  {
   "cell_type": "raw",
   "id": "c14da80e",
   "metadata": {},
   "source": [
    "ANS:-code reusability is the most advantage in functions."
   ]
  },
  {
   "cell_type": "markdown",
   "id": "3b744375",
   "metadata": {},
   "source": [
    "2. When does the code in a function run: when it's specified or when it's called?"
   ]
  },
  {
   "cell_type": "raw",
   "id": "edbe583d",
   "metadata": {},
   "source": [
    "ANS:-when its called"
   ]
  },
  {
   "cell_type": "markdown",
   "id": "3132e568",
   "metadata": {},
   "source": [
    "3. What statement creates a function?"
   ]
  },
  {
   "cell_type": "raw",
   "id": "de00c11d",
   "metadata": {},
   "source": [
    "ANS:- A def statement creates a function.\n",
    "      EX:-def fun():\n",
    "              pass"
   ]
  },
  {
   "cell_type": "markdown",
   "id": "1e403caa",
   "metadata": {},
   "source": [
    "4. What is the difference between a function and a function call?"
   ]
  },
  {
   "cell_type": "raw",
   "id": "dd02a30e",
   "metadata": {},
   "source": [
    "ANS:  A function is procedure to get result.\n",
    "      A function call is using the function to acheive that task"
   ]
  },
  {
   "cell_type": "markdown",
   "id": "a1ec29ce",
   "metadata": {},
   "source": [
    "5. How many global scopes are there in a Python program? How many local scopes?"
   ]
  },
  {
   "cell_type": "raw",
   "id": "b4a2c69a",
   "metadata": {},
   "source": [
    "ANS:-there are only one global scope and one local scope is created whenever a function is called."
   ]
  },
  {
   "cell_type": "markdown",
   "id": "b22d6b1a",
   "metadata": {},
   "source": [
    "6. What happens to variables in a local scope when the function call returns?"
   ]
  },
  {
   "cell_type": "raw",
   "id": "1b3121c6",
   "metadata": {},
   "source": [
    "ANS:-When a function call returns, the local scope is destroyed,and all the variables in it are forgotten"
   ]
  },
  {
   "cell_type": "markdown",
   "id": "4f151347",
   "metadata": {},
   "source": [
    "7. What is the concept of a return value? Is it possible to have a return value in an expression?"
   ]
  },
  {
   "cell_type": "raw",
   "id": "efc08ef6",
   "metadata": {},
   "source": [
    "ANS:- it retruns a value when fuction calls ,yes! it is possible to return an expression."
   ]
  },
  {
   "cell_type": "markdown",
   "id": "2b930717",
   "metadata": {},
   "source": [
    "8. If a function does not have a return statement, what is the return value of a call to that function?"
   ]
  },
  {
   "cell_type": "raw",
   "id": "a1d75f69",
   "metadata": {},
   "source": [
    "ANS:- A function does not have a return statement,than it returns None."
   ]
  },
  {
   "cell_type": "markdown",
   "id": "7c164bb2",
   "metadata": {},
   "source": [
    "9. How do you make a function variable refer to the global variable?"
   ]
  },
  {
   "cell_type": "raw",
   "id": "62577c84",
   "metadata": {},
   "source": [
    "ANS:- A global statement will force a variable in a function to refer to the global varaible.\n",
    "      If you want to refer to a global variable in a function, yu can use the global keyword to declareswhich variable is             global"
   ]
  },
  {
   "cell_type": "markdown",
   "id": "08cbb457",
   "metadata": {},
   "source": [
    "10. What is the data type of None?"
   ]
  },
  {
   "cell_type": "raw",
   "id": "911d3121",
   "metadata": {},
   "source": [
    "The dataType of None is Nonetype."
   ]
  },
  {
   "cell_type": "code",
   "execution_count": 1,
   "id": "7db8ac86",
   "metadata": {},
   "outputs": [
    {
     "data": {
      "text/plain": [
       "NoneType"
      ]
     },
     "execution_count": 1,
     "metadata": {},
     "output_type": "execute_result"
    }
   ],
   "source": [
    "type(None)"
   ]
  },
  {
   "cell_type": "markdown",
   "id": "869e0a2f",
   "metadata": {},
   "source": [
    "11. What does the sentence import areallyourpetsnamederic do?"
   ]
  },
  {
   "cell_type": "raw",
   "id": "4d6d0e57",
   "metadata": {},
   "source": [
    "ANS:-the statement import the areallyourpetsnamederic module"
   ]
  },
  {
   "cell_type": "markdown",
   "id": "1108e868",
   "metadata": {},
   "source": [
    "12. If you had a bacon() feature in a spam module, what would you call it after importing spam?"
   ]
  },
  {
   "cell_type": "raw",
   "id": "969c44a4",
   "metadata": {},
   "source": [
    "ANS:-spam.bacon()"
   ]
  },
  {
   "cell_type": "markdown",
   "id": "9276dc4b",
   "metadata": {},
   "source": [
    "13. What can you do to save a programme from crashing if it encounters an error?"
   ]
  },
  {
   "cell_type": "raw",
   "id": "a51ac041",
   "metadata": {},
   "source": [
    "ANS: By using try block to handle the error"
   ]
  },
  {
   "cell_type": "markdown",
   "id": "b52c1ec0",
   "metadata": {},
   "source": [
    "14. What is the purpose of the try clause? What is the purpose of the except clause?"
   ]
  },
  {
   "cell_type": "raw",
   "id": "b8deffc5",
   "metadata": {},
   "source": [
    "ANS:-the code that could potentially cause an error goes in the try clause.\n",
    "    the code that executes if an error happens goes in the except clause."
   ]
  },
  {
   "cell_type": "code",
   "execution_count": null,
   "id": "9b2d912f",
   "metadata": {},
   "outputs": [],
   "source": []
  }
 ],
 "metadata": {
  "kernelspec": {
   "display_name": "Python 3 (ipykernel)",
   "language": "python",
   "name": "python3"
  },
  "language_info": {
   "codemirror_mode": {
    "name": "ipython",
    "version": 3
   },
   "file_extension": ".py",
   "mimetype": "text/x-python",
   "name": "python",
   "nbconvert_exporter": "python",
   "pygments_lexer": "ipython3",
   "version": "3.9.7"
  }
 },
 "nbformat": 4,
 "nbformat_minor": 5
}
