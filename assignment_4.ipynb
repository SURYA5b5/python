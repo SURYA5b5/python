{
 "cells": [
  {
   "cell_type": "markdown",
   "id": "407e3529",
   "metadata": {},
   "source": [
    "1. What exactly is []?"
   ]
  },
  {
   "cell_type": "raw",
   "id": "df4e7749",
   "metadata": {},
   "source": [
    "ANS:-It is an empty list []"
   ]
  },
  {
   "cell_type": "code",
   "execution_count": 1,
   "id": "dc28b1b5",
   "metadata": {},
   "outputs": [],
   "source": [
    "l=[]"
   ]
  },
  {
   "cell_type": "code",
   "execution_count": 2,
   "id": "7afdd1b2",
   "metadata": {},
   "outputs": [
    {
     "data": {
      "text/plain": [
       "list"
      ]
     },
     "execution_count": 2,
     "metadata": {},
     "output_type": "execute_result"
    }
   ],
   "source": [
    "type(l)"
   ]
  },
  {
   "cell_type": "markdown",
   "id": "5c4c8da2",
   "metadata": {},
   "source": [
    "2. In a list of values stored in a variable called spam, how would you assign the value 'hello' as the third value? (Assume [2, 4, 6, 8, 10] are in spam.)"
   ]
  },
  {
   "cell_type": "code",
   "execution_count": 3,
   "id": "881b62fc",
   "metadata": {},
   "outputs": [],
   "source": [
    "spam=[2,4,6,8,10]"
   ]
  },
  {
   "cell_type": "code",
   "execution_count": 4,
   "id": "22a1c00b",
   "metadata": {},
   "outputs": [
    {
     "data": {
      "text/plain": [
       "[2, 4, 6, 8, 10]"
      ]
     },
     "execution_count": 4,
     "metadata": {},
     "output_type": "execute_result"
    }
   ],
   "source": [
    "spam"
   ]
  },
  {
   "cell_type": "code",
   "execution_count": 5,
   "id": "75bdb69b",
   "metadata": {},
   "outputs": [],
   "source": [
    "spam[2]='hello'"
   ]
  },
  {
   "cell_type": "code",
   "execution_count": 6,
   "id": "13ea7cac",
   "metadata": {},
   "outputs": [
    {
     "data": {
      "text/plain": [
       "[2, 4, 'hello', 8, 10]"
      ]
     },
     "execution_count": 6,
     "metadata": {},
     "output_type": "execute_result"
    }
   ],
   "source": [
    "spam"
   ]
  },
  {
   "cell_type": "markdown",
   "id": "ed63ef3b",
   "metadata": {},
   "source": [
    "3. What is the value of spam[int(int('3' * 2) / 11)]?"
   ]
  },
  {
   "cell_type": "code",
   "execution_count": 7,
   "id": "b48343c5",
   "metadata": {},
   "outputs": [
    {
     "data": {
      "text/plain": [
       "'d'"
      ]
     },
     "execution_count": 7,
     "metadata": {},
     "output_type": "execute_result"
    }
   ],
   "source": [
    "spam=['a', 'b', 'c', 'd'] \n",
    "spam[int(int('3' * 2) / 11)]"
   ]
  },
  {
   "cell_type": "markdown",
   "id": "afb3c857",
   "metadata": {},
   "source": [
    "4. What is the value of spam[-1]?"
   ]
  },
  {
   "cell_type": "code",
   "execution_count": 8,
   "id": "f7c6d16e",
   "metadata": {},
   "outputs": [
    {
     "data": {
      "text/plain": [
       "'d'"
      ]
     },
     "execution_count": 8,
     "metadata": {},
     "output_type": "execute_result"
    }
   ],
   "source": [
    "spam[-1]"
   ]
  },
  {
   "cell_type": "markdown",
   "id": "0efb9cbf",
   "metadata": {},
   "source": [
    "5. What is the value of spam[:2]?"
   ]
  },
  {
   "cell_type": "code",
   "execution_count": 9,
   "id": "a2e1261c",
   "metadata": {},
   "outputs": [
    {
     "data": {
      "text/plain": [
       "['a', 'b']"
      ]
     },
     "execution_count": 9,
     "metadata": {},
     "output_type": "execute_result"
    }
   ],
   "source": [
    "spam[:2]"
   ]
  },
  {
   "cell_type": "markdown",
   "id": "55e9f54e",
   "metadata": {},
   "source": [
    "6. What is the value of bacon.index('cat')?"
   ]
  },
  {
   "cell_type": "code",
   "execution_count": 12,
   "id": "f1bfba64",
   "metadata": {},
   "outputs": [],
   "source": [
    "bacon=[3.14, 'cat', 11, 'cat' ,True] "
   ]
  },
  {
   "cell_type": "code",
   "execution_count": 13,
   "id": "c88e3af4",
   "metadata": {},
   "outputs": [
    {
     "data": {
      "text/plain": [
       "1"
      ]
     },
     "execution_count": 13,
     "metadata": {},
     "output_type": "execute_result"
    }
   ],
   "source": [
    "bacon.index('cat')"
   ]
  },
  {
   "cell_type": "markdown",
   "id": "5303d854",
   "metadata": {},
   "source": [
    "7. How does bacon.append(99) change the look of the list value in bacon?"
   ]
  },
  {
   "cell_type": "code",
   "execution_count": 14,
   "id": "e4252875",
   "metadata": {},
   "outputs": [],
   "source": [
    "bacon.append(99)"
   ]
  },
  {
   "cell_type": "code",
   "execution_count": 15,
   "id": "5dd442eb",
   "metadata": {},
   "outputs": [
    {
     "data": {
      "text/plain": [
       "[3.14, 'cat', 11, 'cat', True, 99]"
      ]
     },
     "execution_count": 15,
     "metadata": {},
     "output_type": "execute_result"
    }
   ],
   "source": [
    "bacon"
   ]
  },
  {
   "cell_type": "markdown",
   "id": "54115125",
   "metadata": {},
   "source": [
    "8. How does bacon.remove('cat') change the look of the list in bacon?"
   ]
  },
  {
   "cell_type": "raw",
   "id": "e4507674",
   "metadata": {},
   "source": [
    "it removes the first cat element"
   ]
  },
  {
   "cell_type": "markdown",
   "id": "fa5e99ac",
   "metadata": {},
   "source": []
  },
  {
   "cell_type": "code",
   "execution_count": 17,
   "id": "18836734",
   "metadata": {},
   "outputs": [
    {
     "data": {
      "text/plain": [
       "[3.14, 11, 'cat', True, 99]"
      ]
     },
     "execution_count": 17,
     "metadata": {},
     "output_type": "execute_result"
    }
   ],
   "source": [
    "bacon"
   ]
  },
  {
   "cell_type": "markdown",
   "id": "67273a7f",
   "metadata": {},
   "source": [
    "9. What are the list concatenation and list replication operators?"
   ]
  },
  {
   "cell_type": "raw",
   "id": "f9a6ba7f",
   "metadata": {},
   "source": [
    "cancatenation(+)\n",
    "replication(*)"
   ]
  },
  {
   "cell_type": "code",
   "execution_count": 18,
   "id": "d49663d2",
   "metadata": {},
   "outputs": [],
   "source": [
    "l1=[2,3,4,5,6]\n",
    "l2=[5,8,7,89,2]"
   ]
  },
  {
   "cell_type": "code",
   "execution_count": 21,
   "id": "3899fba4",
   "metadata": {},
   "outputs": [
    {
     "data": {
      "text/plain": [
       "[2, 3, 4, 5, 6, 5, 8, 7, 89, 2]"
      ]
     },
     "execution_count": 21,
     "metadata": {},
     "output_type": "execute_result"
    }
   ],
   "source": [
    "l1+l2 #concatenation"
   ]
  },
  {
   "cell_type": "code",
   "execution_count": 24,
   "id": "3e194b6c",
   "metadata": {},
   "outputs": [
    {
     "data": {
      "text/plain": [
       "[2, 3, 4, 5, 6, 2, 3, 4, 5, 6]"
      ]
     },
     "execution_count": 24,
     "metadata": {},
     "output_type": "execute_result"
    }
   ],
   "source": [
    "l1*2 #replication"
   ]
  },
  {
   "cell_type": "code",
   "execution_count": 25,
   "id": "8131f4fe",
   "metadata": {},
   "outputs": [
    {
     "data": {
      "text/plain": [
       "[5, 8, 7, 89, 2, 5, 8, 7, 89, 2, 5, 8, 7, 89, 2, 5, 8, 7, 89, 2]"
      ]
     },
     "execution_count": 25,
     "metadata": {},
     "output_type": "execute_result"
    }
   ],
   "source": [
    "l2*4"
   ]
  },
  {
   "cell_type": "markdown",
   "id": "60b52f77",
   "metadata": {},
   "source": [
    "10. What is difference between the list methods append() and insert()?"
   ]
  },
  {
   "cell_type": "raw",
   "id": "c148b43a",
   "metadata": {},
   "source": [
    "ANS:- when we use append than value can store in last place in a list\n",
    "      than use insert() value can store any place in the list"
   ]
  },
  {
   "cell_type": "code",
   "execution_count": 26,
   "id": "2cd246f1",
   "metadata": {},
   "outputs": [
    {
     "data": {
      "text/plain": [
       "[2, 3, 4, 5, 6]"
      ]
     },
     "execution_count": 26,
     "metadata": {},
     "output_type": "execute_result"
    }
   ],
   "source": [
    "l1"
   ]
  },
  {
   "cell_type": "code",
   "execution_count": 34,
   "id": "7f685b82",
   "metadata": {},
   "outputs": [],
   "source": [
    "l1.append(\"you\")"
   ]
  },
  {
   "cell_type": "code",
   "execution_count": 38,
   "id": "8644e7e9",
   "metadata": {},
   "outputs": [
    {
     "data": {
      "text/plain": [
       "[2, 3, 'gh', 4, 5, 6, 'you']"
      ]
     },
     "execution_count": 38,
     "metadata": {},
     "output_type": "execute_result"
    }
   ],
   "source": [
    "l1"
   ]
  },
  {
   "cell_type": "code",
   "execution_count": 39,
   "id": "6b236d4a",
   "metadata": {},
   "outputs": [],
   "source": [
    "l1.insert(2,\"gh\")"
   ]
  },
  {
   "cell_type": "code",
   "execution_count": 42,
   "id": "1a15e194",
   "metadata": {},
   "outputs": [
    {
     "data": {
      "text/plain": [
       "[2, 3, 'gh', 4, 5, 6, 'you']"
      ]
     },
     "execution_count": 42,
     "metadata": {},
     "output_type": "execute_result"
    }
   ],
   "source": [
    "l1"
   ]
  },
  {
   "cell_type": "markdown",
   "id": "ad9b9eaf",
   "metadata": {},
   "source": [
    "11. What are the two methods for removing items from a list?"
   ]
  },
  {
   "cell_type": "raw",
   "id": "700ddf30",
   "metadata": {},
   "source": [
    "ANS:-del() and remove()"
   ]
  },
  {
   "cell_type": "code",
   "execution_count": 47,
   "id": "368ebc82",
   "metadata": {},
   "outputs": [],
   "source": [
    "s=[2,4,5,\"r\",\"e\"]"
   ]
  },
  {
   "cell_type": "code",
   "execution_count": 48,
   "id": "e13d46df",
   "metadata": {},
   "outputs": [
    {
     "data": {
      "text/plain": [
       "[2, 4, 5, 'r', 'e']"
      ]
     },
     "execution_count": 48,
     "metadata": {},
     "output_type": "execute_result"
    }
   ],
   "source": [
    "s"
   ]
  },
  {
   "cell_type": "code",
   "execution_count": 49,
   "id": "01d5bba9",
   "metadata": {},
   "outputs": [],
   "source": [
    "s.remove(2)"
   ]
  },
  {
   "cell_type": "code",
   "execution_count": 50,
   "id": "bf6c9316",
   "metadata": {},
   "outputs": [
    {
     "data": {
      "text/plain": [
       "[4, 5, 'r', 'e']"
      ]
     },
     "execution_count": 50,
     "metadata": {},
     "output_type": "execute_result"
    }
   ],
   "source": [
    "s"
   ]
  },
  {
   "cell_type": "code",
   "execution_count": 53,
   "id": "2cb2f01b",
   "metadata": {},
   "outputs": [],
   "source": [
    "del(s)"
   ]
  },
  {
   "cell_type": "code",
   "execution_count": 54,
   "id": "4d3afd80",
   "metadata": {},
   "outputs": [
    {
     "ename": "NameError",
     "evalue": "name 's' is not defined",
     "output_type": "error",
     "traceback": [
      "\u001b[1;31m---------------------------------------------------------------------------\u001b[0m",
      "\u001b[1;31mNameError\u001b[0m                                 Traceback (most recent call last)",
      "\u001b[1;32m~\\AppData\\Local\\Temp/ipykernel_18484/1028141915.py\u001b[0m in \u001b[0;36m<module>\u001b[1;34m\u001b[0m\n\u001b[1;32m----> 1\u001b[1;33m \u001b[0ms\u001b[0m\u001b[1;33m\u001b[0m\u001b[1;33m\u001b[0m\u001b[0m\n\u001b[0m",
      "\u001b[1;31mNameError\u001b[0m: name 's' is not defined"
     ]
    }
   ],
   "source": [
    "s"
   ]
  },
  {
   "cell_type": "markdown",
   "id": "5bd8026c",
   "metadata": {},
   "source": [
    "12. Describe how list values and string values are identical."
   ]
  },
  {
   "cell_type": "raw",
   "id": "115c9336",
   "metadata": {},
   "source": [
    "ANS:-\n",
    "    In python list both strings and values are stored in same way.\n",
    "    both can use len()function ,have indexes and sclices, be used in for loops,should be be concstenated or replicated, and be     used with the in and not in opertaors"
   ]
  },
  {
   "cell_type": "markdown",
   "id": "ea11b08b",
   "metadata": {},
   "source": [
    "13. What is the difference between tuples and lists?"
   ]
  },
  {
   "cell_type": "raw",
   "id": "bfdbdefb",
   "metadata": {},
   "source": [
    "ANS:-List is a collection of different types of data , it is mutable and it is enclosed with []\n",
    "     Tuple is a collection of different types of data , it is immmutable and itis enclosed with ()"
   ]
  },
  {
   "cell_type": "code",
   "execution_count": 55,
   "id": "503e3b8e",
   "metadata": {},
   "outputs": [
    {
     "name": "stdout",
     "output_type": "stream",
     "text": [
      "[1, 5, 7, 9, 'ramu', (4+5j)]\n",
      "(2, 4, 5, 'raju', (5+4j))\n"
     ]
    }
   ],
   "source": [
    "l=[1,5,7,9,\"ramu\",4+5j]\n",
    "print(l)\n",
    "s=(2,4,5,\"raju\",5+4j)\n",
    "print(s)"
   ]
  },
  {
   "cell_type": "markdown",
   "id": "7f9f3f54",
   "metadata": {},
   "source": [
    "14. How do you type a tuple value that only contains the integer 42?"
   ]
  },
  {
   "cell_type": "code",
   "execution_count": 58,
   "id": "e0e22c1b",
   "metadata": {},
   "outputs": [],
   "source": [
    "a=(42,)"
   ]
  },
  {
   "cell_type": "code",
   "execution_count": 59,
   "id": "b9d9a64f",
   "metadata": {},
   "outputs": [
    {
     "data": {
      "text/plain": [
       "tuple"
      ]
     },
     "execution_count": 59,
     "metadata": {},
     "output_type": "execute_result"
    }
   ],
   "source": [
    "type(a)"
   ]
  },
  {
   "cell_type": "markdown",
   "id": "6069fd91",
   "metadata": {},
   "source": [
    "15. How do you get a list value's tuple form? How do you get a tuple value's list form?"
   ]
  },
  {
   "cell_type": "markdown",
   "id": "f7217868",
   "metadata": {},
   "source": [
    "ANS:- YES! we can get a list value's tuple form andget a tuple value's list form"
   ]
  },
  {
   "cell_type": "code",
   "execution_count": 60,
   "id": "9b079f1d",
   "metadata": {},
   "outputs": [
    {
     "name": "stdout",
     "output_type": "stream",
     "text": [
      "(1, 3, 4, 5, 6)\n"
     ]
    }
   ],
   "source": [
    "l=[1,3,4,5,6]\n",
    "s=tuple(l)\n",
    "print(s)"
   ]
  },
  {
   "cell_type": "code",
   "execution_count": 61,
   "id": "fe52c53a",
   "metadata": {},
   "outputs": [
    {
     "name": "stdout",
     "output_type": "stream",
     "text": [
      "[1, 3, 4, 5, 6]\n"
     ]
    }
   ],
   "source": [
    "l=(1,3,4,5,6)\n",
    "s=list(l)\n",
    "print(s)"
   ]
  },
  {
   "cell_type": "markdown",
   "id": "38a5fffc",
   "metadata": {},
   "source": [
    "16. Variables that \"contain\" list values are not necessarily lists themselves. Instead, what do they contain?"
   ]
  },
  {
   "cell_type": "raw",
   "id": "bb88bc5c",
   "metadata": {},
   "source": [
    "ANS:-they contains refrences to list values."
   ]
  },
  {
   "cell_type": "markdown",
   "id": "b89f8664",
   "metadata": {},
   "source": [
    "17. How do you distinguish between copy.copy() and copy.deepcopy()?"
   ]
  },
  {
   "cell_type": "raw",
   "id": "9e50edf4",
   "metadata": {},
   "source": [
    "ANS:- The copy.copy() function wii do a shallow copy of alist,while the copy.deepcopy() function will do a deep copy of a list.\n",
    "      that,is only copy.deepcopy() will duplicte any lists inside the list."
   ]
  },
  {
   "cell_type": "code",
   "execution_count": null,
   "id": "6799b39f",
   "metadata": {},
   "outputs": [],
   "source": []
  }
 ],
 "metadata": {
  "kernelspec": {
   "display_name": "Python 3 (ipykernel)",
   "language": "python",
   "name": "python3"
  },
  "language_info": {
   "codemirror_mode": {
    "name": "ipython",
    "version": 3
   },
   "file_extension": ".py",
   "mimetype": "text/x-python",
   "name": "python",
   "nbconvert_exporter": "python",
   "pygments_lexer": "ipython3",
   "version": "3.9.7"
  }
 },
 "nbformat": 4,
 "nbformat_minor": 5
}
