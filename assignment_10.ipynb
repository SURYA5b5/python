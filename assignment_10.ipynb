{
 "cells": [
  {
   "cell_type": "markdown",
   "id": "ed32f03f",
   "metadata": {},
   "source": [
    "1. How do you distinguish between shutil.copy() and shutil.copytree()?"
   ]
  },
  {
   "cell_type": "code",
   "execution_count": null,
   "id": "24f490cb",
   "metadata": {},
   "outputs": [],
   "source": [
    "ANS:-shutil.copy-->it copies the source file to destination file without metadata.\n",
    "     shutil.copytree-->it copies the source directory to destination directory without metadata."
   ]
  },
  {
   "cell_type": "markdown",
   "id": "e8929d05",
   "metadata": {},
   "source": [
    "2. What function is used to rename files?"
   ]
  },
  {
   "cell_type": "raw",
   "id": "edd9fcd2",
   "metadata": {},
   "source": [
    "ANS:-By using os.rename()"
   ]
  },
  {
   "cell_type": "code",
   "execution_count": 1,
   "id": "25a4531b",
   "metadata": {},
   "outputs": [
    {
     "name": "stdout",
     "output_type": "stream",
     "text": [
      "name changed\n"
     ]
    }
   ],
   "source": [
    "import os\n",
    "l=\"folder_1\"\n",
    "d=\"folder_5\"\n",
    "a=os.rename(l,d)\n",
    "print(\"name changed\")"
   ]
  },
  {
   "cell_type": "markdown",
   "id": "dee0b670",
   "metadata": {},
   "source": [
    "3. What is the difference between the delete functions in the send2trash and shutil modules?"
   ]
  },
  {
   "cell_type": "raw",
   "id": "75656ddb",
   "metadata": {},
   "source": [
    "ANS:- In shuttle delete that file should be deleted permanantely.\n",
    "      Where ever in send2trash module the file or folder move to recycle bin \n",
    "      didnt delete permanately.  "
   ]
  },
  {
   "cell_type": "markdown",
   "id": "1947083e",
   "metadata": {},
   "source": [
    "4.ZipFile objects have a close() method just like File objects’ close() method. What ZipFile method is equivalent to File objects’ open() method?"
   ]
  },
  {
   "cell_type": "raw",
   "id": "0a73e54e",
   "metadata": {},
   "source": [
    "ANS:-ZipFile method is equivalent to File object's open() method because the parameters of the file and zip is same filename and mode."
   ]
  },
  {
   "cell_type": "markdown",
   "id": "af0cd3a9",
   "metadata": {},
   "source": [
    "5. Create a programme that searches a folder tree for files with a certain file extension (such as .pdf or .jpg). Copy these files from whatever location they are in to a new folder."
   ]
  },
  {
   "cell_type": "code",
   "execution_count": 18,
   "id": "5f7ead86",
   "metadata": {},
   "outputs": [
    {
     "data": {
      "text/plain": [
       "'C:\\\\Users\\\\surya\\\\Desktop\\\\jupyter'"
      ]
     },
     "execution_count": 18,
     "metadata": {},
     "output_type": "execute_result"
    }
   ],
   "source": [
    "pwd"
   ]
  },
  {
   "cell_type": "code",
   "execution_count": 17,
   "id": "a221f1b0",
   "metadata": {},
   "outputs": [
    {
     "name": "stdout",
     "output_type": "stream",
     "text": [
      "Looking in C:\\Users\\surya\\Desktop\\jupyter\\folder_5 for files with extensions of .ipynb, .py\n",
      "Coping C:\\Users\\surya\\Desktop\\jupyter\\folder_5\\assignment_1.ipynb to C:\\Users\\surya\\Desktop\\jupyter\\folder_2\n"
     ]
    }
   ],
   "source": [
    "import os\n",
    "import shutil\n",
    "\n",
    "def selectiveCopy(folder, extensions, destFolder):\n",
    "    folder = os.path.abspath(folder)\n",
    "    destFolder = os.path.abspath(destFolder)\n",
    "    print('Looking in', folder, 'for files with extensions of', ', '.join(extensions))\n",
    "    for foldername, subfolders, filenames in os.walk(folder):\n",
    "        for filename in filenames:\n",
    "            name, extension = os.path.splitext(filename)\n",
    "            if extension in extensions:\n",
    "                fileAbsPath = foldername + os.path.sep + filename\n",
    "                print('Coping', fileAbsPath, 'to', destFolder)\n",
    "                shutil.copy(fileAbsPath, destFolder)\n",
    "\n",
    "extensions = ['.ipynb', '.py']\n",
    "folder = 'folder_5'\n",
    "destFolder = 'folder_2'\n",
    "selectiveCopy(folder, extensions, destFolder)"
   ]
  }
 ],
 "metadata": {
  "kernelspec": {
   "display_name": "Python 3 (ipykernel)",
   "language": "python",
   "name": "python3"
  },
  "language_info": {
   "codemirror_mode": {
    "name": "ipython",
    "version": 3
   },
   "file_extension": ".py",
   "mimetype": "text/x-python",
   "name": "python",
   "nbconvert_exporter": "python",
   "pygments_lexer": "ipython3",
   "version": "3.9.7"
  }
 },
 "nbformat": 4,
 "nbformat_minor": 5
}
