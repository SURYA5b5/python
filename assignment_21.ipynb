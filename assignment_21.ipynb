{
 "cells": [
  {
   "cell_type": "markdown",
   "id": "99a7f401",
   "metadata": {},
   "source": [
    "1. Add the current date to the text file today.txt as a string."
   ]
  },
  {
   "cell_type": "code",
   "execution_count": 3,
   "id": "4027cc63",
   "metadata": {},
   "outputs": [],
   "source": [
    "import datetime\n",
    "f=open(\"today.txt\",\"w\")\n",
    "f.write(datetime.datetime.now().strftime(\"%d-%m-%Y\"))\n",
    "f.close()"
   ]
  },
  {
   "cell_type": "code",
   "execution_count": 6,
   "id": "1972755e",
   "metadata": {},
   "outputs": [
    {
     "name": "stdout",
     "output_type": "stream",
     "text": [
      "22-11-2022\n"
     ]
    }
   ],
   "source": [
    "f=open(\"today.txt\",\"r\")\n",
    "print(f.read())\n",
    "f.close()"
   ]
  },
  {
   "cell_type": "markdown",
   "id": "b1b609fa",
   "metadata": {},
   "source": [
    "2. Read the text file today.txt into the string today_string"
   ]
  },
  {
   "cell_type": "code",
   "execution_count": 9,
   "id": "e7f12bbb",
   "metadata": {},
   "outputs": [
    {
     "name": "stdout",
     "output_type": "stream",
     "text": [
      "22-11-2022\n"
     ]
    }
   ],
   "source": [
    "f=open(\"today.txt\",\"r\")\n",
    "today_string=f.read()\n",
    "print(today_string)\n",
    "f.close()"
   ]
  },
  {
   "cell_type": "markdown",
   "id": "707ceae8",
   "metadata": {},
   "source": [
    "3. Parse the date from today_string."
   ]
  },
  {
   "cell_type": "code",
   "execution_count": 17,
   "id": "673e0a7f",
   "metadata": {},
   "outputs": [
    {
     "name": "stdout",
     "output_type": "stream",
     "text": [
      "2022-11-22 00:00:00\n"
     ]
    }
   ],
   "source": [
    "parsed=datetime.datetime.strptime(today_string,\"%d-%m-%Y\")\n",
    "print(parsed)"
   ]
  },
  {
   "cell_type": "markdown",
   "id": "fafdc1cd",
   "metadata": {},
   "source": [
    "4. List the files in your current directory"
   ]
  },
  {
   "cell_type": "code",
   "execution_count": 23,
   "id": "6a8e7ceb",
   "metadata": {},
   "outputs": [
    {
     "name": "stdout",
     "output_type": "stream",
     "text": [
      "assignment_!4.ipynb\n",
      "assignment_1.ipynb\n",
      "assignment_10.ipynb\n",
      "assignment_11.ipynb\n",
      "assignment_12.ipynb\n",
      "assignment_13.ipynb\n",
      "assignment_15.ipynb\n",
      "assignment_16.ipynb\n",
      "assignment_17.ipynb\n",
      "assignment_18.ipynb\n",
      "assignment_19.ipynb\n",
      "assignment_20.ipynb\n",
      "assignment_21.ipynb\n",
      "assignment_3.ipynb\n",
      "assignment_4.ipynb\n",
      "assignment_5.ipynb\n",
      "assignment_6.ipynb\n",
      "assignment_7.ipynb\n",
      "assignment_8.ipynb\n",
      "assignment_9.ipynb\n",
      "assignment_program_6.ipynb\n",
      "assign_1\n",
      "assign_1.txt\n",
      "book.csv\n",
      "book1.csv\n",
      "books\n",
      "books.csv\n",
      "books.db\n",
      "data.csv\n",
      "default.ipynb\n",
      "dict.ipynb\n",
      "example.pdf\n",
      "exception.ipynb\n",
      "file system.ipynb\n",
      "functions.ipynb\n",
      "logger.txt\n",
      "logger1.txt\n",
      "loops.ipynb\n",
      "pic2.jpg\n",
      "picture.jpg\n",
      "programLog.txt\n",
      "set.ipynb\n",
      "shutil-Copy1.ipynb\n",
      "shutil.ipynb\n",
      "test.txt\n",
      "test2.txt\n",
      "test3.txt\n",
      "test4.txt\n",
      "test5.log\n",
      "today.txt\n",
      "Untitled.ipynb\n",
      "Untitled1.ipynb\n",
      "Untitled10.ipynb\n",
      "Untitled2.ipynb\n",
      "Untitled3.ipynb\n",
      "Untitled4.ipynb\n",
      "Untitled5.ipynb\n",
      "Untitled6.ipynb\n",
      "Untitled7.ipynb\n",
      "Untitled8.ipynb\n",
      "zoo.py\n",
      "assignment_!4-checkpoint.ipynb\n",
      "assignment_1-checkpoint.ipynb\n",
      "assignment_10-checkpoint.ipynb\n",
      "assignment_11-checkpoint.ipynb\n",
      "assignment_12-checkpoint.ipynb\n",
      "assignment_13-checkpoint.ipynb\n",
      "assignment_15-checkpoint.ipynb\n",
      "assignment_16-checkpoint.ipynb\n",
      "assignment_17-checkpoint.ipynb\n",
      "assignment_18-checkpoint.ipynb\n",
      "assignment_19-checkpoint.ipynb\n",
      "assignment_20-checkpoint.ipynb\n",
      "assignment_21-checkpoint.ipynb\n",
      "assignment_3-checkpoint.ipynb\n",
      "assignment_4-checkpoint.ipynb\n",
      "assignment_5-checkpoint.ipynb\n",
      "assignment_6-checkpoint.ipynb\n",
      "assignment_7-checkpoint.ipynb\n",
      "assignment_8-checkpoint.ipynb\n",
      "assignment_9-checkpoint.ipynb\n",
      "assignment_program_6-checkpoint.ipynb\n",
      "default-checkpoint.ipynb\n",
      "dict-checkpoint.ipynb\n",
      "exception-checkpoint.ipynb\n",
      "file system-checkpoint.ipynb\n",
      "functions-checkpoint.ipynb\n",
      "loops-checkpoint.ipynb\n",
      "set-checkpoint.ipynb\n",
      "shutil-checkpoint.ipynb\n",
      "shutil-Copy1-checkpoint.ipynb\n",
      "Untitled-checkpoint.ipynb\n",
      "Untitled1-checkpoint.ipynb\n",
      "Untitled10-checkpoint.ipynb\n",
      "Untitled2-checkpoint.ipynb\n",
      "Untitled3-checkpoint.ipynb\n",
      "Untitled4-checkpoint.ipynb\n",
      "Untitled5-checkpoint.ipynb\n",
      "Untitled6-checkpoint.ipynb\n",
      "Untitled7-checkpoint.ipynb\n",
      "Untitled8-checkpoint.ipynb\n",
      "assignment_11.ipynb\n",
      "Copy_of_FSDS_bootcamp_assignment_002_Oct_01.ipynb\n",
      "FSDS_bootcamp_assignment_004_Oct_09.ipynb\n",
      "Untitled.ipynb\n",
      "assignment_11-checkpoint.ipynb\n",
      "Copy_of_FSDS_bootcamp_assignment_002_Oct_01-checkpoint.ipynb\n",
      "FSDS_bootcamp_assignment_004_Oct_09-checkpoint.ipynb\n",
      "Untitled-checkpoint.ipynb\n",
      "assignment_program_1.ipynb\n",
      "assignment_program_10.ipynb\n",
      "assignment_program_2.ipynb\n",
      "assignment_program_3.ipynb\n",
      "assignment_program_4.ipynb\n",
      "assignment_program_5.ipynb\n",
      "assignment_program_1-checkpoint.ipynb\n",
      "assignment_program_10-checkpoint.ipynb\n",
      "assignment_program_2-checkpoint.ipynb\n",
      "assignment_program_3-checkpoint.ipynb\n",
      "assignment_program_4-checkpoint.ipynb\n",
      "assignment_program_5-checkpoint.ipynb\n",
      "assignment_1.ipynb\n",
      "assign_1.txt\n",
      "file1.log\n",
      "log time.ipynb\n",
      "test1.log\n",
      "test2.log\n",
      "Untitled.ipynb\n",
      "Untitled1.ipynb\n",
      "log time-checkpoint.ipynb\n",
      "Untitled-checkpoint.ipynb\n",
      "Untitled1-checkpoint.ipynb\n",
      "task.py\n",
      "task.txt\n",
      "Untitled.ipynb\n",
      "Untitled-checkpoint.ipynb\n",
      "task.cpython-39.pyc\n",
      "19.3.1 mongoDB introduction.ipynb\n",
      "19.3.2 pyMongo.ipynb\n",
      "19.3.3 Atlas.ipynb\n",
      "mongodb class 1.ipynb\n",
      "Untitled.ipynb\n",
      "Untitled1.ipynb\n",
      "19.3.1 mongoDB introduction-checkpoint.ipynb\n",
      "19.3.2 pyMongo-checkpoint.ipynb\n",
      "19.3.3 Atlas-checkpoint.ipynb\n",
      "mongodb class 1-checkpoint.ipynb\n",
      "Untitled-checkpoint.ipynb\n",
      "Untitled1-checkpoint.ipynb\n",
      "cassandra.ipynb\n",
      "data.csv\n",
      "LUSID Excel - Manage Orders.xlsx\n",
      "NBA.csv\n",
      "numpy.ipynb\n",
      "pandaaa.ipynb\n",
      "pandaaaaaa.ipynb\n",
      "pandas day 2.ipynb\n",
      "pandas.ipynb\n",
      "pandas_and_numpy.ipynb\n",
      "phones.csv\n",
      "cassandra-checkpoint.ipynb\n",
      "numpy-checkpoint.ipynb\n",
      "pandaaa-checkpoint.ipynb\n",
      "pandaaaaaa-checkpoint.ipynb\n",
      "pandas day 2-checkpoint.ipynb\n",
      "pandas-checkpoint.ipynb\n",
      "pandas_and_numpy-checkpoint.ipynb\n",
      "bank-full.csv\n",
      "bank-names.txt\n",
      "bank.csv\n",
      "addresses.csv\n",
      "contacts.csv\n",
      "holiday_schedules.csv\n",
      "locations.csv\n",
      "mail_addresses.csv\n",
      "organizations.csv\n",
      "phones.csv\n",
      "programs.csv\n",
      "regular_schedules.csv\n",
      "services.csv\n",
      "taxonomy.csv\n",
      ".gitignore\n",
      "LICENSE.md\n",
      "LUSID Excel - Business Agility - Making Simple Changes Quickly & Easily.xlsx\n",
      "LUSID Excel - Maintain a product in multiple currencies and share classes.xlsx\n",
      "LUSID Excel - Manage instruments with economic definitions.xlsx\n",
      "LUSID Excel - Manage Orders.xlsx\n",
      "LUSID Excel - Manage your investment strategies.xlsx\n",
      "LUSID Excel - Setting up your IBOR.xlsx\n",
      "LUSID Excel - Setting up your market data.xlsx\n",
      "README.md\n",
      "test_Ibor_Template.py\n",
      "credentials_source.py\n",
      "data_source.py\n",
      "__init__.py\n",
      "car.data\n",
      "car.names\n",
      "glass.data\n",
      "sql_connection.ipynb\n",
      "sql_practice.ipynb\n",
      "Untitled.ipynb\n",
      "sql_connection-checkpoint.ipynb\n",
      "sql_practice-checkpoint.ipynb\n",
      "Untitled-checkpoint.ipynb\n",
      "jobdb.db\n",
      "jobdb.db-journal\n",
      "sqlite3.ipynb\n",
      "surya_bd\n",
      "surya_db\n",
      "Untitled.ipynb\n",
      "sqlite3-checkpoint.ipynb\n",
      "Untitled-checkpoint.ipynb\n",
      "zoo.cpython-39.pyc\n"
     ]
    }
   ],
   "source": [
    "import os\n",
    "for folders,subfolders,files in os.walk(os.getcwd()):\n",
    "    for j in files:\n",
    "        print(j)"
   ]
  },
  {
   "cell_type": "markdown",
   "id": "06d3257c",
   "metadata": {},
   "source": [
    "5. Create a list of all of the files in your parent directory (minimum five files should be available)."
   ]
  },
  {
   "cell_type": "code",
   "execution_count": 25,
   "id": "a14962a4",
   "metadata": {},
   "outputs": [
    {
     "data": {
      "text/plain": [
       "['.ipynb_checkpoints',\n",
       " 'assignment_!4.ipynb',\n",
       " 'assignment_1.ipynb',\n",
       " 'assignment_10.ipynb',\n",
       " 'assignment_11.ipynb',\n",
       " 'assignment_12.ipynb',\n",
       " 'assignment_13.ipynb',\n",
       " 'assignment_15.ipynb',\n",
       " 'assignment_16.ipynb',\n",
       " 'assignment_17.ipynb',\n",
       " 'assignment_18.ipynb',\n",
       " 'assignment_19.ipynb',\n",
       " 'assignment_20.ipynb',\n",
       " 'assignment_21.ipynb',\n",
       " 'assignment_3.ipynb',\n",
       " 'assignment_4.ipynb',\n",
       " 'assignment_5.ipynb',\n",
       " 'assignment_6.ipynb',\n",
       " 'assignment_7.ipynb',\n",
       " 'assignment_8.ipynb',\n",
       " 'assignment_9.ipynb',\n",
       " 'assignment_folder',\n",
       " 'assignment_program_6.ipynb',\n",
       " 'assign_1',\n",
       " 'assign_1.txt',\n",
       " 'book.csv',\n",
       " 'book1.csv',\n",
       " 'books',\n",
       " 'books.csv',\n",
       " 'books.db',\n",
       " 'data.csv',\n",
       " 'default.ipynb',\n",
       " 'dict.ipynb',\n",
       " 'example.pdf',\n",
       " 'exception.ipynb',\n",
       " 'file system.ipynb',\n",
       " 'folder_2',\n",
       " 'folder_5',\n",
       " 'functions.ipynb',\n",
       " 'logger.txt',\n",
       " 'logger1.txt',\n",
       " 'loggings',\n",
       " 'loops.ipynb',\n",
       " 'modules',\n",
       " 'mongodb',\n",
       " 'numpy and pandas',\n",
       " 'pic2.jpg',\n",
       " 'picture.jpg',\n",
       " 'programLog.txt',\n",
       " 'sample-csv',\n",
       " 'sample-excel-master',\n",
       " 'set.ipynb',\n",
       " 'shutil-Copy1.ipynb',\n",
       " 'shutil.ipynb',\n",
       " 'sql',\n",
       " 'sql_lite',\n",
       " 'test.txt',\n",
       " 'test2.txt',\n",
       " 'test3.txt',\n",
       " 'test4.txt',\n",
       " 'test5.log',\n",
       " 'today.txt',\n",
       " 'Untitled.ipynb',\n",
       " 'Untitled1.ipynb',\n",
       " 'Untitled10.ipynb',\n",
       " 'Untitled2.ipynb',\n",
       " 'Untitled3.ipynb',\n",
       " 'Untitled4.ipynb',\n",
       " 'Untitled5.ipynb',\n",
       " 'Untitled6.ipynb',\n",
       " 'Untitled7.ipynb',\n",
       " 'Untitled8.ipynb',\n",
       " 'zoo.py',\n",
       " '__pycache__']"
      ]
     },
     "execution_count": 25,
     "metadata": {},
     "output_type": "execute_result"
    }
   ],
   "source": [
    "os.listdir()"
   ]
  },
  {
   "cell_type": "markdown",
   "id": "f410268f",
   "metadata": {},
   "source": [
    "6. Use multiprocessing to create three separate processes. Make each one wait a random number of seconds between one and five, print the current time, and then exit."
   ]
  },
  {
   "cell_type": "code",
   "execution_count": 26,
   "id": "bdc34c63",
   "metadata": {},
   "outputs": [],
   "source": [
    "import multiprocessing\n",
    "import time \n",
    "import random\n",
    "import datetime\n",
    "\n",
    "def procOne():\n",
    "    print(f'Proc_one_Starttime -> {datetime.datetime.now()}')\n",
    "    time.sleep(random.randint(1,10))\n",
    "    print(f'Proc_one_Endtime -> {datetime.datetime.now()}')\n",
    "    \n",
    "def procTwo():\n",
    "    print(f'Proc_two_Starttime -> {datetime.datetime.now()}')\n",
    "    time.sleep(random.randint(1,10))\n",
    "    print(f'Proc_two_Endtime -> {datetime.datetime.now()}')\n",
    "\n",
    "def procThree():\n",
    "    print(f'Proc_two_Starttime -> {datetime.datetime.now()}')\n",
    "    time.sleep(random.randint(1,10))\n",
    "    print(f'Proc_two_Endtime -> {datetime.datetime.now()}')\n",
    "    \n",
    "if __name__ == \"__main__\":    \n",
    "    p1 = multiprocessing.Process(target=procOne)\n",
    "    p2 = multiprocessing.Process(target=procTwo)\n",
    "    p3 = multiprocessing.Process(target=procThree)\n",
    "\n",
    "    p1.start()\n",
    "    p2.start()\n",
    "    p3.start()\n",
    "\n",
    "    p1.join()\n",
    "    p2.join()\n",
    "    p3.join()"
   ]
  },
  {
   "cell_type": "markdown",
   "id": "43a71a01",
   "metadata": {},
   "source": [
    "7. Create a date object of your day of birth."
   ]
  },
  {
   "cell_type": "code",
   "execution_count": 30,
   "id": "d6131812",
   "metadata": {},
   "outputs": [
    {
     "name": "stdout",
     "output_type": "stream",
     "text": [
      "1998-09-07 00:00:00 <class 'datetime.datetime'>\n"
     ]
    }
   ],
   "source": [
    "my_dob = datetime.datetime.strptime('07/09/1998','%d/%m/%Y')\n",
    "print(my_dob, type(my_dob))"
   ]
  },
  {
   "cell_type": "markdown",
   "id": "e0cc273b",
   "metadata": {},
   "source": [
    "8. What day of the week was your day of birth?"
   ]
  },
  {
   "cell_type": "code",
   "execution_count": 36,
   "id": "88d0e0da",
   "metadata": {},
   "outputs": [
    {
     "data": {
      "text/plain": [
       "'Monday'"
      ]
     },
     "execution_count": 36,
     "metadata": {},
     "output_type": "execute_result"
    }
   ],
   "source": [
    "my_dob = datetime.datetime(1998,9,7)\n",
    "my_dob.strftime(\"%A\")"
   ]
  },
  {
   "cell_type": "markdown",
   "id": "3682f1ee",
   "metadata": {},
   "source": [
    "9. When will you be (or when were you) 10,000 days old?"
   ]
  },
  {
   "cell_type": "code",
   "execution_count": 41,
   "id": "5785631a",
   "metadata": {},
   "outputs": [
    {
     "data": {
      "text/plain": [
       "datetime.datetime(1971, 4, 22, 0, 0)"
      ]
     },
     "execution_count": 41,
     "metadata": {},
     "output_type": "execute_result"
    }
   ],
   "source": [
    "from datetime import datetime, timedelta\n",
    "my_dob = datetime.strptime(\"07/09/1998\",'%d/%m/%Y')\n",
    "future_date = my_dob-timedelta(10000)\n",
    "future_date"
   ]
  },
  {
   "cell_type": "code",
   "execution_count": null,
   "id": "563f6ed2",
   "metadata": {},
   "outputs": [],
   "source": []
  }
 ],
 "metadata": {
  "kernelspec": {
   "display_name": "Python 3 (ipykernel)",
   "language": "python",
   "name": "python3"
  },
  "language_info": {
   "codemirror_mode": {
    "name": "ipython",
    "version": 3
   },
   "file_extension": ".py",
   "mimetype": "text/x-python",
   "name": "python",
   "nbconvert_exporter": "python",
   "pygments_lexer": "ipython3",
   "version": "3.9.7"
  }
 },
 "nbformat": 4,
 "nbformat_minor": 5
}
