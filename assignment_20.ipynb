{
 "cells": [
  {
   "cell_type": "markdown",
   "id": "15b12a10",
   "metadata": {},
   "source": [
    "1. Set the variable test1 to the string 'This is a test of the emergency text system,' and save test1 to a file named test.txt."
   ]
  },
  {
   "cell_type": "code",
   "execution_count": 4,
   "id": "0df863b8",
   "metadata": {},
   "outputs": [
    {
     "name": "stdout",
     "output_type": "stream",
     "text": [
      "This is a test of the emergency text system\n"
     ]
    }
   ],
   "source": [
    "test1='This is a test of the emergency text system'\n",
    "print(test1)\n",
    "f=open(\"test.txt\",'w')\n",
    "f.write(test1)\n",
    "f.close()"
   ]
  },
  {
   "cell_type": "code",
   "execution_count": 5,
   "id": "272a84cd",
   "metadata": {},
   "outputs": [
    {
     "name": "stdout",
     "output_type": "stream",
     "text": [
      "This is a test of the emergency text system\n"
     ]
    }
   ],
   "source": [
    "! type test.txt"
   ]
  },
  {
   "cell_type": "markdown",
   "id": "2577b0b8",
   "metadata": {},
   "source": [
    "2. Read the contents of the file test.txt into the variable test2. Is there a difference between test 1 and test 2?"
   ]
  },
  {
   "cell_type": "code",
   "execution_count": 6,
   "id": "e00506e3",
   "metadata": {},
   "outputs": [
    {
     "name": "stdout",
     "output_type": "stream",
     "text": [
      "This is a test of the emergency text system\n"
     ]
    }
   ],
   "source": [
    "f=open(\"test.txt\",'r')\n",
    "test2=f.read()\n",
    "print(test2)"
   ]
  },
  {
   "cell_type": "code",
   "execution_count": 8,
   "id": "ecfc0c68",
   "metadata": {},
   "outputs": [
    {
     "name": "stdout",
     "output_type": "stream",
     "text": [
      "no difference\n"
     ]
    }
   ],
   "source": [
    "if(test1==test2):\n",
    "    print(\"no difference\")\n",
    "else:\n",
    "    print(\"yes! there is a differnce\")"
   ]
  },
  {
   "cell_type": "markdown",
   "id": "b297696e",
   "metadata": {},
   "source": [
    "3. Create a CSV file called books.csv by using these lines:\n",
    "title,author,year\n",
    "The Weirdstone of Brisingamen,Alan Garner,1960\n",
    "Perdido Street Station,China Miéville,2000\n",
    "Thud!,Terry Pratchett,2005\n",
    "The Spellman Files,Lisa Lutz,2007\n",
    "Small Gods,Terry Pratchett,1992"
   ]
  },
  {
   "cell_type": "code",
   "execution_count": 40,
   "id": "d09fc1c6",
   "metadata": {},
   "outputs": [],
   "source": [
    "import csv\n",
    "s=['title','author','year']\n",
    "r=[['The Weirdstone of Brisingamen','Alan Garner',1960],\n",
    "  ['Perdido Street Station','China Miéville',2000],\n",
    "  ['Thud!','Terry Pratchett',2005],\n",
    "  ['The Spellman Files','Lisa Lutz',2007],\n",
    "  ['Small Gods','Terry Pratchett',1992]]\n",
    "with open(\"books.csv\",'w') as f:\n",
    "    csvwriter=csv.writer(f)\n",
    "    csvwriter.writerow(s)\n",
    "    csvwriter.writerows(r)"
   ]
  },
  {
   "cell_type": "code",
   "execution_count": 42,
   "id": "46ec95d8",
   "metadata": {},
   "outputs": [
    {
     "name": "stdout",
     "output_type": "stream",
     "text": [
      "['title', 'author', 'year']\n",
      "[]\n",
      "['The Weirdstone of Brisingamen', 'Alan Garner', '1960']\n",
      "[]\n",
      "['Perdido Street Station', 'China Miéville', '2000']\n",
      "[]\n",
      "['Thud!', 'Terry Pratchett', '2005']\n",
      "[]\n",
      "['The Spellman Files', 'Lisa Lutz', '2007']\n",
      "[]\n",
      "['Small Gods', 'Terry Pratchett', '1992']\n",
      "[]\n"
     ]
    }
   ],
   "source": [
    "with open(\"books.csv\",\"r\") as d:\n",
    "    read_csv=csv.reader(d,delimiter=',')\n",
    "    for i in read_csv:\n",
    "        print(i)"
   ]
  },
  {
   "cell_type": "markdown",
   "id": "88fdc840",
   "metadata": {},
   "source": [
    "4. Use the sqlite3 module to create a SQLite database called books.db, and a table called books with these fields: title (text), author (text), and year (integer)."
   ]
  },
  {
   "cell_type": "code",
   "execution_count": 84,
   "id": "016e9ff3",
   "metadata": {},
   "outputs": [],
   "source": [
    "import sqlite3"
   ]
  },
  {
   "cell_type": "code",
   "execution_count": 85,
   "id": "a4227c77",
   "metadata": {},
   "outputs": [],
   "source": [
    "db=sqlite3.connect(\"books.db\")"
   ]
  },
  {
   "cell_type": "code",
   "execution_count": 86,
   "id": "4b56af8d",
   "metadata": {},
   "outputs": [],
   "source": [
    "c=db.cursor()"
   ]
  },
  {
   "cell_type": "code",
   "execution_count": 87,
   "id": "b946723e",
   "metadata": {},
   "outputs": [
    {
     "data": {
      "text/plain": [
       "<sqlite3.Cursor at 0x24214556880>"
      ]
     },
     "execution_count": 87,
     "metadata": {},
     "output_type": "execute_result"
    }
   ],
   "source": [
    "c.execute(\"create table bookks(title txt,author txt,year int)\")"
   ]
  },
  {
   "cell_type": "markdown",
   "id": "74c26169",
   "metadata": {},
   "source": [
    "5. Read books.csv and insert its data into the book table."
   ]
  },
  {
   "cell_type": "code",
   "execution_count": 88,
   "id": "1c931392",
   "metadata": {},
   "outputs": [],
   "source": [
    "import sqlite3\n",
    "import csv\n",
    "conn=sqlite3.connect('books.db')"
   ]
  },
  {
   "cell_type": "code",
   "execution_count": 89,
   "id": "0094493e",
   "metadata": {},
   "outputs": [],
   "source": [
    "c=conn.cursor()\n",
    "with open(\"books.csv\",\"r\") as f:\n",
    "    b=csv.DictReader(f)\n",
    "    for i in b:\n",
    "        c.execute(\"insert into bookks values(?,?,?)\",(i[\"title\"],i[\"author\"],i['year']))"
   ]
  },
  {
   "cell_type": "code",
   "execution_count": null,
   "id": "9344cfd7",
   "metadata": {},
   "outputs": [],
   "source": [
    "conn.commit()\n",
    "comm.close"
   ]
  },
  {
   "cell_type": "markdown",
   "id": "e092b298",
   "metadata": {},
   "source": [
    "6. Select and print the title column from the book table in alphabetical order."
   ]
  },
  {
   "cell_type": "code",
   "execution_count": 91,
   "id": "95b2c31b",
   "metadata": {},
   "outputs": [
    {
     "name": "stdout",
     "output_type": "stream",
     "text": [
      "Perdido Street Station\n",
      "Small Gods\n",
      "The Spellman Files\n",
      "The Weirdstone of Brisingamen\n",
      "Thud!\n"
     ]
    }
   ],
   "source": [
    "import sqlite3\n",
    "import csv\n",
    "conn=sqlite3.connect('books.db')\n",
    "a=c.execute(\"select title from bookks order by title ASC\")\n",
    "for i in a:\n",
    "    print(i[0])"
   ]
  },
  {
   "cell_type": "markdown",
   "id": "62213e7a",
   "metadata": {},
   "source": [
    "7. From the book table, select and print all columns in the order of publication."
   ]
  },
  {
   "cell_type": "code",
   "execution_count": 92,
   "id": "917b66bf",
   "metadata": {},
   "outputs": [
    {
     "name": "stdout",
     "output_type": "stream",
     "text": [
      "('The Weirdstone of Brisingamen', 'Alan Garner', 1960)\n",
      "('Small Gods', 'Terry Pratchett', 1992)\n",
      "('Perdido Street Station', 'China Miéville', 2000)\n",
      "('Thud!', 'Terry Pratchett', 2005)\n",
      "('The Spellman Files', 'Lisa Lutz', 2007)\n"
     ]
    }
   ],
   "source": [
    "import sqlite3\n",
    "import csv\n",
    "conn=sqlite3.connect('books.db')\n",
    "a=c.execute(\"select * from bookks order by year\")\n",
    "for i in a:\n",
    "    print(i)"
   ]
  },
  {
   "cell_type": "markdown",
   "id": "97db3749",
   "metadata": {},
   "source": [
    "8. Use the sqlalchemy module to connect to the sqlite3 database books.db that you just made in exercise 6."
   ]
  },
  {
   "cell_type": "code",
   "execution_count": 6,
   "id": "60b1d754",
   "metadata": {},
   "outputs": [
    {
     "name": "stdout",
     "output_type": "stream",
     "text": [
      "Engine(sqlite:///books.db)\n"
     ]
    }
   ],
   "source": [
    "import sqlalchemy\n",
    "c=sqlalchemy.create_engine('sqlite:///books.db')\n",
    "print(c)"
   ]
  },
  {
   "cell_type": "markdown",
   "id": "fe0617ba",
   "metadata": {},
   "source": [
    "9. Install the Redis server and the Python redis library (pip install redis) on your computer. Create a Redis hash called test with the fields count (1) and name ('Fester Bestertester'). Print all the fields for test."
   ]
  },
  {
   "cell_type": "code",
   "execution_count": 3,
   "id": "fdbc7ec4",
   "metadata": {},
   "outputs": [
    {
     "name": "stdout",
     "output_type": "stream",
     "text": [
      "Collecting redis\n",
      "  Using cached redis-4.3.5-py3-none-any.whl (248 kB)\n",
      "Collecting async-timeout>=4.0.2\n",
      "  Using cached async_timeout-4.0.2-py3-none-any.whl (5.8 kB)\n",
      "Requirement already satisfied: packaging>=20.4 in c:\\users\\surya\\desktop\\programs\\ana\\lib\\site-packages (from redis) (21.0)\n",
      "Requirement already satisfied: pyparsing>=2.0.2 in c:\\users\\surya\\desktop\\programs\\ana\\lib\\site-packages (from packaging>=20.4->redis) (3.0.4)\n",
      "Installing collected packages: async-timeout, redis\n",
      "Successfully installed async-timeout-4.0.2 redis-4.3.5\n"
     ]
    }
   ],
   "source": [
    "! pip install redis"
   ]
  },
  {
   "cell_type": "code",
   "execution_count": 4,
   "id": "53f16770",
   "metadata": {},
   "outputs": [],
   "source": [
    "import redis"
   ]
  },
  {
   "cell_type": "code",
   "execution_count": null,
   "id": "ddc4cd3e",
   "metadata": {},
   "outputs": [],
   "source": [
    "c=redis.Redis()\n",
    "c.hset('test',{'count':1,'name':'Fester Bestertester'\n",
    "})\n",
    "c.hgetall('test')"
   ]
  },
  {
   "cell_type": "markdown",
   "id": "e70bcfc6",
   "metadata": {},
   "source": [
    "10. Increment the count field of test and print it."
   ]
  },
  {
   "cell_type": "code",
   "execution_count": null,
   "id": "276934b5",
   "metadata": {},
   "outputs": [],
   "source": [
    "c.hincrby('test','count',1)\n",
    "c.hget('test','count')"
   ]
  }
 ],
 "metadata": {
  "kernelspec": {
   "display_name": "Python 3 (ipykernel)",
   "language": "python",
   "name": "python3"
  },
  "language_info": {
   "codemirror_mode": {
    "name": "ipython",
    "version": 3
   },
   "file_extension": ".py",
   "mimetype": "text/x-python",
   "name": "python",
   "nbconvert_exporter": "python",
   "pygments_lexer": "ipython3",
   "version": "3.9.7"
  }
 },
 "nbformat": 4,
 "nbformat_minor": 5
}
