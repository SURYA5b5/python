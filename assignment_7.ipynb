{
 "cells": [
  {
   "cell_type": "markdown",
   "id": "5d2dd3f4",
   "metadata": {},
   "source": [
    "1. What is the name of the feature responsible for generating Regex objects?"
   ]
  },
  {
   "cell_type": "raw",
   "id": "55d5ad9d",
   "metadata": {},
   "source": [
    "ANS:-re.compile() function returns the regex objects."
   ]
  },
  {
   "cell_type": "code",
   "execution_count": 162,
   "id": "44e92568",
   "metadata": {},
   "outputs": [
    {
     "name": "stdout",
     "output_type": "stream",
     "text": [
      "<class 're.Pattern'>\n",
      "re.compile('some_random_pattern')\n"
     ]
    }
   ],
   "source": [
    "import re\n",
    "x = re.compile(\"some_random_pattern\")\n",
    "print(type(x))\n",
    "print(x)"
   ]
  },
  {
   "cell_type": "markdown",
   "id": "a7dff59c",
   "metadata": {},
   "source": [
    "2. Why do raw strings often appear in Regex objects?"
   ]
  },
  {
   "cell_type": "raw",
   "id": "017aff5c",
   "metadata": {},
   "source": [
    "ANS:-In python by using (\\)backslash operater its performs some escape characters usage in regular expressions.\n",
    "     in regular expression using r or R add prefix to the string it cannot perform escape character.\n",
    "     "
   ]
  },
  {
   "cell_type": "code",
   "execution_count": 163,
   "id": "9f323520",
   "metadata": {},
   "outputs": [
    {
     "name": "stdout",
     "output_type": "stream",
     "text": [
      "hi\n",
      "hello\n",
      "hi\\nhello\n",
      "hi\\nhello\n"
     ]
    }
   ],
   "source": [
    "print(\"hi\\nhello\")\n",
    "print(r\"hi\\nhello\")\n",
    "print(R\"hi\\nhello\")"
   ]
  },
  {
   "cell_type": "markdown",
   "id": "04ae8c0f",
   "metadata": {},
   "source": [
    "3. What is the return value of the search() method?"
   ]
  },
  {
   "cell_type": "raw",
   "id": "80c1fcc1",
   "metadata": {},
   "source": [
    "ANS:-It returns a match object if there is a match. If there is more than one match, only the first occurrence of the match\n",
    "     will be returned. if no match found, the valye None is returned."
   ]
  },
  {
   "cell_type": "code",
   "execution_count": 164,
   "id": "d077609d",
   "metadata": {},
   "outputs": [
    {
     "name": "stdout",
     "output_type": "stream",
     "text": [
      "<re.Match object; span=(4, 5), match='a'>\n",
      "None\n"
     ]
    }
   ],
   "source": [
    "import re\n",
    "r=\"my name is anand\"\n",
    "s=re.search(\"a\",r)\n",
    "print(s)\n",
    "s=re.search(\"f\",r)\n",
    "print(s)"
   ]
  },
  {
   "cell_type": "markdown",
   "id": "a2bd0dcd",
   "metadata": {},
   "source": [
    "4. From a Match item, how do you get the actual strings that match the pattern?"
   ]
  },
  {
   "cell_type": "raw",
   "id": "081a15b3",
   "metadata": {},
   "source": [
    "ANS:-by using group() method to get actual search item."
   ]
  },
  {
   "cell_type": "code",
   "execution_count": 165,
   "id": "18508792",
   "metadata": {},
   "outputs": [
    {
     "name": "stdout",
     "output_type": "stream",
     "text": [
      "surya\n"
     ]
    }
   ],
   "source": [
    "import re\n",
    "r=\"my nAme is surya\"\n",
    "s=re.search(\"surya\",r,flags=re.IGNORECASE)\n",
    "print(s.group())"
   ]
  },
  {
   "cell_type": "markdown",
   "id": "db0c31c7",
   "metadata": {},
   "source": [
    "5. In the regex which created from the r'(\\d\\d\\d)-(\\d\\d\\d-\\d\\d\\d\\d)', what does group zero cover? Group 2? Group 1?"
   ]
  },
  {
   "cell_type": "raw",
   "id": "e12207b5",
   "metadata": {},
   "source": [
    "ANS:- r'(\\d\\d\\d)-(\\d\\d\\d-\\d\\d\\d\\d)'-->group zero covers complete pattern ,group1 covers 1pattern and group2 covers 2pattern"
   ]
  },
  {
   "cell_type": "code",
   "execution_count": 166,
   "id": "a2a9cc1e",
   "metadata": {},
   "outputs": [
    {
     "name": "stdout",
     "output_type": "stream",
     "text": [
      "this is all groups:- ('412', '254-5463')\n",
      "this is for full:- 412-254-5463\n",
      "this is for group1:- 412\n",
      "this is for group2:- 254-5463\n"
     ]
    }
   ],
   "source": [
    "import re\n",
    "t=re.compile(r'(\\d\\d\\d)-(\\d\\d\\d-\\d\\d\\d\\d)')\n",
    "m=t.search(\"412-254-5463\")\n",
    "print(\"this is all groups:-\",m.groups())\n",
    "print(\"this is for full:-\",m.group())\n",
    "print(\"this is for group1:-\",m.group(1))\n",
    "print(\"this is for group2:-\",m.group(2))"
   ]
  },
  {
   "cell_type": "markdown",
   "id": "883f2cfb",
   "metadata": {},
   "source": [
    "6. In standard expression syntax, parentheses and intervals have distinct meanings. How can you tell a regex that you want it to fit real parentheses and periods?"
   ]
  },
  {
   "cell_type": "code",
   "execution_count": 167,
   "id": "71e2fc2e",
   "metadata": {},
   "outputs": [
    {
     "name": "stdout",
     "output_type": "stream",
     "text": [
      "(4561) 111-2226\n"
     ]
    }
   ],
   "source": [
    "import re\n",
    "a= re.compile(r'(\\(\\d\\d\\d\\d\\)) (\\d\\d\\d-\\d\\d\\d\\d)')\n",
    "b= a.search('(4561) 111-2226')\n",
    "print(b.group())"
   ]
  },
  {
   "cell_type": "markdown",
   "id": "a324c826",
   "metadata": {},
   "source": [
    "7. The findall() method returns a string list or a list of string tuples. What causes it to return one of the two options?\n"
   ]
  },
  {
   "cell_type": "raw",
   "id": "35b0646b",
   "metadata": {},
   "source": [
    "ANS:-If the regex pattern has no groups, a list of strings matched is returned. if the regex pattern has groups, a list of tuple of strings is returned."
   ]
  },
  {
   "cell_type": "code",
   "execution_count": 168,
   "id": "e317022a",
   "metadata": {},
   "outputs": [
    {
     "name": "stdout",
     "output_type": "stream",
     "text": [
      "[('(415)', '555-4242')]\n"
     ]
    }
   ],
   "source": [
    "import re\n",
    "a=re.compile(r'(\\(\\d\\d\\d\\)) (\\d\\d\\d-\\d\\d\\d\\d)')\n",
    "b=a.findall('(415) 555-4242.')\n",
    "print(b)"
   ]
  },
  {
   "cell_type": "code",
   "execution_count": 169,
   "id": "1bd10eb9",
   "metadata": {},
   "outputs": [
    {
     "name": "stdout",
     "output_type": "stream",
     "text": [
      "['415-555-4242']\n"
     ]
    }
   ],
   "source": [
    "import re\n",
    "a=re.compile(r'\\d{3}-\\d{3}-\\d{4}')\n",
    "b=a.findall('415-555-4242.')\n",
    "print(b)"
   ]
  },
  {
   "cell_type": "markdown",
   "id": "89bd9874",
   "metadata": {},
   "source": [
    "8. In standard expressions, what does the | character mean?"
   ]
  },
  {
   "cell_type": "raw",
   "id": "ca6437ba",
   "metadata": {},
   "source": [
    "ANS:-(|)character  is a or operator."
   ]
  },
  {
   "cell_type": "markdown",
   "id": "1d1aed2a",
   "metadata": {},
   "source": [
    "9. In regular expressions, what does the ? character stand for?"
   ]
  },
  {
   "cell_type": "raw",
   "id": "70ae2587",
   "metadata": {},
   "source": [
    "ANS:-Match 0 or 1 occurances of the pattern to its left or right."
   ]
  },
  {
   "cell_type": "code",
   "execution_count": 170,
   "id": "15d26eda",
   "metadata": {},
   "outputs": [
    {
     "name": "stdout",
     "output_type": "stream",
     "text": [
      "<re.Match object; span=(0, 3), match='abc'>\n"
     ]
    }
   ],
   "source": [
    "import re\n",
    "a=re.search(\"a..?\",\"abcfd\")\n",
    "print(a)"
   ]
  },
  {
   "cell_type": "code",
   "execution_count": 171,
   "id": "720e038f",
   "metadata": {},
   "outputs": [
    {
     "name": "stdout",
     "output_type": "stream",
     "text": [
      "<re.Match object; span=(0, 3), match='wea'>\n"
     ]
    }
   ],
   "source": [
    "import re\n",
    "a=re.search(\"..a?\",\"weaghf\")\n",
    "print(a)"
   ]
  },
  {
   "cell_type": "markdown",
   "id": "dacbef44",
   "metadata": {},
   "source": [
    "10.In regular expressions, what is the difference between the + and * characters?"
   ]
  },
  {
   "cell_type": "raw",
   "id": "e0965440",
   "metadata": {},
   "source": [
    "ANS:-In regex + is for 0 or 1 occurences of the preceding group, and regex * is for 0 0r 1 occurences of the precceding group.\n",
    "     the * symbol having a repeated string before given string and + symbol having a single other element of the value before \n",
    "     the given string"
   ]
  },
  {
   "cell_type": "code",
   "execution_count": 172,
   "id": "b614dc2f",
   "metadata": {},
   "outputs": [
    {
     "name": "stdout",
     "output_type": "stream",
     "text": [
      "<re.Match object; span=(0, 6), match='aaaaaa'>\n"
     ]
    }
   ],
   "source": [
    "import re\n",
    "m=re.search(\"a*\",\"aaaaaabaa\")\n",
    "print(m)"
   ]
  },
  {
   "cell_type": "code",
   "execution_count": 173,
   "id": "857c5885",
   "metadata": {},
   "outputs": [
    {
     "name": "stdout",
     "output_type": "stream",
     "text": [
      "<re.Match object; span=(0, 1), match='a'>\n"
     ]
    }
   ],
   "source": [
    "import re\n",
    "m=re.search(\"a\",\"aabaaaabaa\")\n",
    "print(m)"
   ]
  },
  {
   "cell_type": "markdown",
   "id": "88721dd7",
   "metadata": {},
   "source": [
    "11. What is the difference between {4} and {4,5} in regular expression?"
   ]
  },
  {
   "cell_type": "raw",
   "id": "ceacbb54",
   "metadata": {},
   "source": [
    "ANS:-{4} Means the preceeding is upto 4,{4,5} preceeding is either min=4 and max=5."
   ]
  },
  {
   "cell_type": "code",
   "execution_count": 174,
   "id": "9ae4bf46",
   "metadata": {},
   "outputs": [
    {
     "name": "stdout",
     "output_type": "stream",
     "text": [
      "<re.Match object; span=(3, 7), match='aaaa'>\n"
     ]
    }
   ],
   "source": [
    "import re\n",
    "m=re.search(\"a{4}\",\"aabaaaabaa\")\n",
    "print(m)"
   ]
  },
  {
   "cell_type": "code",
   "execution_count": 175,
   "id": "659708ae",
   "metadata": {},
   "outputs": [
    {
     "name": "stdout",
     "output_type": "stream",
     "text": [
      "<re.Match object; span=(3, 7), match='aaaa'>\n"
     ]
    }
   ],
   "source": [
    "import re\n",
    "m=re.search(\"a{4,5}\",\"aabaaaabaa\")\n",
    "print(m)"
   ]
  },
  {
   "cell_type": "code",
   "execution_count": 176,
   "id": "1541266b",
   "metadata": {},
   "outputs": [
    {
     "name": "stdout",
     "output_type": "stream",
     "text": [
      "<re.Match object; span=(3, 8), match='aaaaa'>\n"
     ]
    }
   ],
   "source": [
    "import re\n",
    "m=re.search(\"a{4,5}\",\"aabaaaaaaaaabaa\")\n",
    "print(m)"
   ]
  },
  {
   "cell_type": "markdown",
   "id": "eddf936c",
   "metadata": {},
   "source": [
    "12. What do you mean by the \\d, \\w, and \\s shorthand character classes signify in regular expressions?"
   ]
  },
  {
   "cell_type": "raw",
   "id": "8160eb1f",
   "metadata": {},
   "source": [
    "ANS:-\\d-->it returns if given string having digits(0-9).\n",
    "     \\w-->it returns if given string having word characters(a-z,A-Z,0-9)\n",
    "     \\s-->if given string having spaces."
   ]
  },
  {
   "cell_type": "code",
   "execution_count": 177,
   "id": "6b327435",
   "metadata": {},
   "outputs": [
    {
     "name": "stdout",
     "output_type": "stream",
     "text": [
      "['4', '5', '4', '5']\n"
     ]
    }
   ],
   "source": [
    "import re\n",
    "s=re.findall(\"\\d\",\"rakesh4545\")\n",
    "print(s)"
   ]
  },
  {
   "cell_type": "code",
   "execution_count": 178,
   "id": "342b3ed7",
   "metadata": {},
   "outputs": [
    {
     "name": "stdout",
     "output_type": "stream",
     "text": [
      "['r', 'a', 'k', 'e', 's', 'h', '4', '5', '4', '5']\n"
     ]
    }
   ],
   "source": [
    "import re\n",
    "s=re.findall(\"\\w\",\"@#$%rakesh4545\")\n",
    "print(s)"
   ]
  },
  {
   "cell_type": "code",
   "execution_count": 179,
   "id": "e18b3a19",
   "metadata": {},
   "outputs": [
    {
     "name": "stdout",
     "output_type": "stream",
     "text": [
      "[' ', ' ', ' ', ' ']\n",
      "4\n"
     ]
    }
   ],
   "source": [
    "import re\n",
    "s=re.findall(\"\\s\",\"r akes h4 5 45\")\n",
    "print(s)\n",
    "print(len(s))"
   ]
  },
  {
   "cell_type": "markdown",
   "id": "0bed2b8b",
   "metadata": {},
   "source": [
    "13. What do means by \\D, \\W, and \\S shorthand character classes signify in regular expressions?"
   ]
  },
  {
   "cell_type": "raw",
   "id": "4d7b0b7d",
   "metadata": {},
   "source": [
    "ANS:-\\D-->it doesn't return digits(0-9)\n",
    "     \\W-->it doesn't return characters and digits(a-z,A-Z,0-9).\n",
    "     \\S-->it doesn't return white spaces."
   ]
  },
  {
   "cell_type": "code",
   "execution_count": 180,
   "id": "fe5b4d59",
   "metadata": {},
   "outputs": [
    {
     "name": "stdout",
     "output_type": "stream",
     "text": [
      "['r', 'a', 'k', 'e', 's', 'h']\n"
     ]
    }
   ],
   "source": [
    "import re\n",
    "s=re.findall(\"\\D\",\"rakesh4545\")\n",
    "print(s)"
   ]
  },
  {
   "cell_type": "code",
   "execution_count": 181,
   "id": "002250e2",
   "metadata": {},
   "outputs": [
    {
     "name": "stdout",
     "output_type": "stream",
     "text": [
      "['@', '#', '$', '%']\n"
     ]
    }
   ],
   "source": [
    "import re\n",
    "s=re.findall(\"\\W\",\"@#$%rakesh4545\")\n",
    "print(s)"
   ]
  },
  {
   "cell_type": "code",
   "execution_count": 182,
   "id": "5360fe60",
   "metadata": {},
   "outputs": [
    {
     "name": "stdout",
     "output_type": "stream",
     "text": [
      "['r', 'a', 'k', 'e', 's', 'h', '4', '5', '4', '5']\n",
      "10\n"
     ]
    }
   ],
   "source": [
    "import re\n",
    "s=re.findall(\"\\S\",\"r akes h4 5 45\")\n",
    "print(s)\n",
    "print(len(s))"
   ]
  },
  {
   "cell_type": "markdown",
   "id": "bab7fa96",
   "metadata": {},
   "source": [
    "14. What is the difference between .* and .*?"
   ]
  },
  {
   "cell_type": "raw",
   "id": "b19510e1",
   "metadata": {},
   "source": [
    "ANS:-(.*)-->is a greedy mode,which returns longest string that meets condition.\n",
    "     (.?)-->is a non-greedy mode,which returns shortest string that meets condition."
   ]
  },
  {
   "cell_type": "code",
   "execution_count": null,
   "id": "f670a7ac",
   "metadata": {},
   "outputs": [],
   "source": []
  },
  {
   "cell_type": "code",
   "execution_count": 183,
   "id": "f832200a",
   "metadata": {},
   "outputs": [
    {
     "name": "stdout",
     "output_type": "stream",
     "text": [
      "<re.Match object; span=(0, 1), match='w'>\n"
     ]
    }
   ],
   "source": [
    "import re\n",
    "a=re.search(\".?\",\"weaghf\")\n",
    "print(a)"
   ]
  },
  {
   "cell_type": "code",
   "execution_count": 184,
   "id": "6d213e8e",
   "metadata": {},
   "outputs": [
    {
     "name": "stdout",
     "output_type": "stream",
     "text": [
      "<re.Match object; span=(0, 6), match='weaghf'>\n"
     ]
    }
   ],
   "source": [
    "import re\n",
    "m=re.search(\".*\",\"weaghf\")\n",
    "print(m)"
   ]
  },
  {
   "cell_type": "markdown",
   "id": "eeb322ce",
   "metadata": {},
   "source": [
    "15. What is the syntax for matching both numbers and lowercase letters with a character class?"
   ]
  },
  {
   "cell_type": "markdown",
   "id": "f7eac756",
   "metadata": {},
   "source": [
    "ANS:-[a-z0-9] or [0-9a-z]"
   ]
  },
  {
   "cell_type": "code",
   "execution_count": 185,
   "id": "6e6a82d1",
   "metadata": {},
   "outputs": [
    {
     "name": "stdout",
     "output_type": "stream",
     "text": [
      "['r', 'a', 'k', 'e', 's', 'h', '4', '5', '4', '5']\n"
     ]
    }
   ],
   "source": [
    "import re\n",
    "s=re.findall(\"[0-9a-z]\",\"@#$%rakesh4545\")\n",
    "print(s)"
   ]
  },
  {
   "cell_type": "code",
   "execution_count": 186,
   "id": "ba75fb00",
   "metadata": {},
   "outputs": [
    {
     "name": "stdout",
     "output_type": "stream",
     "text": [
      "['r', 'a', 'k', 'e', 's', 'h', '4', '5', '4', '5']\n"
     ]
    }
   ],
   "source": [
    "import re\n",
    "s=re.findall(\"[a-z0-9]\",\"@#$%rakesh4545\")\n",
    "print(s)"
   ]
  },
  {
   "cell_type": "markdown",
   "id": "24984852",
   "metadata": {},
   "source": [
    "16. What is the procedure for making a normal expression in regax case insensitive?"
   ]
  },
  {
   "cell_type": "raw",
   "id": "5064e467",
   "metadata": {},
   "source": [
    "ANS:-re.IGNORECASE will be used to avaoid case sensitive."
   ]
  },
  {
   "cell_type": "code",
   "execution_count": 187,
   "id": "a7f51e75",
   "metadata": {},
   "outputs": [
    {
     "name": "stdout",
     "output_type": "stream",
     "text": [
      "['r', 'a', 'k', 'e']\n",
      "['r', 'a', 'k', 'e', 'S', 'H']\n"
     ]
    }
   ],
   "source": [
    "#Normal senario\n",
    "import re\n",
    "s=re.findall(\"[a-z]\",\"@#$%rakeSH4545\")\n",
    "print(s)\n",
    "#by using IGNORECASE \n",
    "import re\n",
    "t=re.findall(\"[a-z]\",\"@#$%rakeSH4545\",flags=re.IGNORECASE)\n",
    "print(t)"
   ]
  },
  {
   "cell_type": "markdown",
   "id": "ec4a7335",
   "metadata": {},
   "source": [
    "17. What does the . character normally match? What does it match if re.DOTALL is passed as 2nd argument in re.compile()?"
   ]
  },
  {
   "cell_type": "raw",
   "id": "d30057f7",
   "metadata": {},
   "source": [
    "ANS:-(.)operater matches everything in a input string except newline.By passing re.DOTALL as a flag to re.compile()."
   ]
  },
  {
   "cell_type": "markdown",
   "id": "e3a024d4",
   "metadata": {},
   "source": [
    "18. If numReg = re.compile(r'\\d+'), what will numRegex.sub('X', '11 drummers, 10 pipers, five rings, 4 hen') return?"
   ]
  },
  {
   "cell_type": "code",
   "execution_count": 188,
   "id": "90661ddf",
   "metadata": {},
   "outputs": [
    {
     "ename": "NameError",
     "evalue": "name 'numRegex' is not defined",
     "output_type": "error",
     "traceback": [
      "\u001b[1;31m---------------------------------------------------------------------------\u001b[0m",
      "\u001b[1;31mNameError\u001b[0m                                 Traceback (most recent call last)",
      "\u001b[1;32m~\\AppData\\Local\\Temp/ipykernel_7620/3048593843.py\u001b[0m in \u001b[0;36m<module>\u001b[1;34m\u001b[0m\n\u001b[0;32m      2\u001b[0m \u001b[1;32mimport\u001b[0m \u001b[0mre\u001b[0m\u001b[1;33m\u001b[0m\u001b[1;33m\u001b[0m\u001b[0m\n\u001b[0;32m      3\u001b[0m \u001b[0mnumReg\u001b[0m \u001b[1;33m=\u001b[0m \u001b[0mre\u001b[0m\u001b[1;33m.\u001b[0m\u001b[0mcompile\u001b[0m\u001b[1;33m(\u001b[0m\u001b[1;34mr'\\d+'\u001b[0m\u001b[1;33m)\u001b[0m\u001b[1;33m\u001b[0m\u001b[1;33m\u001b[0m\u001b[0m\n\u001b[1;32m----> 4\u001b[1;33m \u001b[0mnumRegex\u001b[0m\u001b[1;33m.\u001b[0m\u001b[0msub\u001b[0m\u001b[1;33m(\u001b[0m\u001b[1;34m'X'\u001b[0m\u001b[1;33m,\u001b[0m \u001b[1;34m'11 drummers, 10 pipers, five rings, 4 hen'\u001b[0m\u001b[1;33m)\u001b[0m\u001b[1;33m\u001b[0m\u001b[1;33m\u001b[0m\u001b[0m\n\u001b[0m",
      "\u001b[1;31mNameError\u001b[0m: name 'numRegex' is not defined"
     ]
    }
   ],
   "source": [
    "#given in question\n",
    "import re\n",
    "numReg = re.compile(r'\\d+')\n",
    "numRegex.sub('X', '11 drummers, 10 pipers, five rings, 4 hen')"
   ]
  },
  {
   "cell_type": "code",
   "execution_count": 189,
   "id": "cc3a357a",
   "metadata": {},
   "outputs": [
    {
     "data": {
      "text/plain": [
       "'X drummers, X pipers, five rings, X hen'"
      ]
     },
     "execution_count": 189,
     "metadata": {},
     "output_type": "execute_result"
    }
   ],
   "source": [
    "# clarify\n",
    "import re\n",
    "numReg = re.compile(r'\\d+')\n",
    "numReg.sub('X', '11 drummers, 10 pipers, five rings, 4 hen')"
   ]
  },
  {
   "cell_type": "markdown",
   "id": "ab24e8bc",
   "metadata": {},
   "source": [
    "19. What does passing re.VERBOSE as the 2nd argument to re.compile() allow to do?"
   ]
  },
  {
   "cell_type": "raw",
   "id": "12ed4ef7",
   "metadata": {},
   "source": [
    "ANS:re.VERBOSE : This flag allows you to write regular expressions that look better and more readable, \n",
    "    allowing you to visually separate logical sections of the template and add comments. \n",
    "    Spaces in the pattern are ignored unless they are in a character class,or when preceded by an unescaped backslash, \n",
    "    or inside tokens such as * ?, (?: or (? P When a line contains a # character that is not a character class and is not \n",
    "    preceded by a backslash without escaping, all characters from the leftmost such # to the end of the line are ignored."
   ]
  },
  {
   "cell_type": "code",
   "execution_count": 190,
   "id": "8058573c",
   "metadata": {},
   "outputs": [],
   "source": [
    "# Without Using VERBOSE\n",
    "regex_email = re.compile(r'^([a-z0-9_\\.-]+)@([0-9a-z\\.-]+)\\.([a-z\\.]{2, 6})$', re.IGNORECASE)\n",
    " \n",
    "# Using VERBOSE\n",
    "regex_email_1 = re.compile(r\"\"\"\n",
    "                            ^([a-z0-9_\\.-]+)              # local Part like username\n",
    "                            @                             # single @ sign \n",
    "                            ([0-9a-z\\.-]+)                # Domain name like google\n",
    "                            \\.                            # single Dot .\n",
    "                            ([a-z]{2,6})$                 # Top level Domain  like com/in/org\n",
    "                         \"\"\",re.VERBOSE | re.IGNORECASE)   "
   ]
  },
  {
   "cell_type": "code",
   "execution_count": 191,
   "id": "3bf71662",
   "metadata": {},
   "outputs": [
    {
     "data": {
      "text/plain": [
       "re.compile(r'^([a-z0-9_\\.-]+)@([0-9a-z\\.-]+)\\.([a-z\\.]{2, 6})$',\n",
       "re.IGNORECASE|re.UNICODE)"
      ]
     },
     "execution_count": 191,
     "metadata": {},
     "output_type": "execute_result"
    }
   ],
   "source": [
    "regex_email"
   ]
  },
  {
   "cell_type": "code",
   "execution_count": 192,
   "id": "d1a2956b",
   "metadata": {},
   "outputs": [
    {
     "data": {
      "text/plain": [
       "re.compile(r'\\n                            ^([a-z0-9_\\.-]+)              # local Part like username\\n                            @                             # single @ sign \\n                            ([0-9a-z\\.-]+)                # Domain name like google\\n                            \\.                            # single Dot .\\n                            ([a-z]{2,6})$                 # Top level Domain  like com/in/org\\n                         ',\n",
       "re.IGNORECASE|re.UNICODE|re.VERBOSE)"
      ]
     },
     "execution_count": 192,
     "metadata": {},
     "output_type": "execute_result"
    }
   ],
   "source": [
    "regex_email_1"
   ]
  },
  {
   "cell_type": "markdown",
   "id": "76c9f24c",
   "metadata": {},
   "source": [
    "20. How would you write a regex that match a number with comma for every three digits? It must match the given following:\n",
    "'42'\n",
    "'1,234'\n",
    "'6,368,745'\n",
    "but not the following:\n",
    "'12,34,567' (which has only two digits between the commas)\n",
    "'1234' (which lacks commas)\n"
   ]
  },
  {
   "cell_type": "code",
   "execution_count": 193,
   "id": "9548e59f",
   "metadata": {},
   "outputs": [
    {
     "name": "stdout",
     "output_type": "stream",
     "text": [
      "Output: 42 -> <re.Match object; span=(0, 2), match='42'>\n",
      "Output: 1,234 -> <re.Match object; span=(0, 5), match='1,234'>\n",
      "Output: 6,368,745 -> <re.Match object; span=(0, 9), match='6,368,745'>\n",
      "Output: 12,34,567 -> None\n",
      "Output: 1234 -> None\n"
     ]
    }
   ],
   "source": [
    "import re\n",
    "pattern = r'^\\d{1,3}(,\\d{3})*$'\n",
    "pagex = re.compile(pattern)\n",
    "for ele in ['42','1,234', '6,368,745','12,34,567','1234']:\n",
    "    print('Output:',ele, '->', pagex.search(ele))"
   ]
  },
  {
   "cell_type": "markdown",
   "id": "780a3aaf",
   "metadata": {},
   "source": [
    "21. How would you write a regex that matches the full name of someone whose last name is Watanabe? You can assume that the first name that comes before it will always be one word that begins with a capital letter. The regex must match the following:\n",
    "'Haruto Watanabe'\n",
    "'Alice Watanabe'\n",
    "'RoboCop Watanabe'\n",
    "but not the following:\n",
    "'haruto Watanabe' (where the first name is not capitalized)\n",
    "'Mr. Watanabe' (where the preceding word has a nonletter character)\n",
    "'Watanabe' (which has no first name)\n",
    "'Haruto watanabe' (where Watanabe is not capitalized)\n"
   ]
  },
  {
   "cell_type": "raw",
   "id": "47ff7d1f",
   "metadata": {},
   "source": [
    "ANS:-pattern = r'[A-Z]{1}[a-z]*\\sWatanabe'"
   ]
  },
  {
   "cell_type": "code",
   "execution_count": 194,
   "id": "157908f6",
   "metadata": {},
   "outputs": [
    {
     "name": "stdout",
     "output_type": "stream",
     "text": [
      "Output:  Haruto Watanabe -> <re.Match object; span=(0, 15), match='Haruto Watanabe'>\n",
      "Output:  Alice Watanabe -> <re.Match object; span=(0, 14), match='Alice Watanabe'>\n",
      "Output:  RoboCop Watanabe -> <re.Match object; span=(4, 16), match='Cop Watanabe'>\n",
      "Output:  haruto Watanabe -> None\n",
      "Output:  Mr. Watanabe -> None\n",
      "Output:  Watanabe -> None\n",
      "Output:  Haruto watanabe -> None\n"
     ]
    }
   ],
   "source": [
    "import re\n",
    "pattern = r'[A-Z]{1}[a-z]*\\sWatanabe'\n",
    "namex = re.compile(pattern)\n",
    "for name in ['Haruto Watanabe','Alice Watanabe','RoboCop Watanabe','haruto Watanabe','Mr. Watanabe','Watanabe','Haruto watanabe']:\n",
    "    print('Output: ',name,'->',namex.search(name))"
   ]
  },
  {
   "cell_type": "markdown",
   "id": "9d91f4db",
   "metadata": {},
   "source": [
    "22. How would you write a regex that matches a sentence where the first word is either Alice, Bob, or Carol; the second word is either eats, pets, or throws; the third word is apples, cats, or baseballs; and the sentence ends with a period? This regex should be case-insensitive. It must match the following:\n",
    "'Alice eats apples.'\n",
    "'Bob pets cats.'\n",
    "'Carol throws baseballs.'\n",
    "'Alice throws Apples.'\n",
    "'BOB EATS CATS.'\n",
    "but not the following:\n",
    "'RoboCop eats apples.'\n",
    "'ALICE THROWS FOOTBALLS.'\n",
    "'Carol eats 7 cats.'\n"
   ]
  },
  {
   "cell_type": "code",
   "execution_count": 195,
   "id": "3b80b13b",
   "metadata": {},
   "outputs": [
    {
     "name": "stdout",
     "output_type": "stream",
     "text": [
      "Output:  Alice eats apples. -> <re.Match object; span=(0, 18), match='Alice eats apples.'>\n",
      "Output:  Bob pets cats. -> <re.Match object; span=(0, 14), match='Bob pets cats.'>\n",
      "Output:  Carol throws baseballs. -> <re.Match object; span=(0, 23), match='Carol throws baseballs.'>\n",
      "Output:  Alice throws Apples. -> <re.Match object; span=(0, 20), match='Alice throws Apples.'>\n",
      "Output:  BOB EATS CATS. -> <re.Match object; span=(0, 14), match='BOB EATS CATS.'>\n",
      "Output:  RoboCop eats apples. -> None\n",
      "Output:  ALICE THROWS FOOTBALLS. -> None\n",
      "Output:  Carol eats 7 cats. -> None\n"
     ]
    }
   ],
   "source": [
    "import re\n",
    "pattern = r'(Alice|Bob|Carol)\\s(eats|pets|throws)\\s(apples|cats|baseballs)\\.'\n",
    "casex = re.compile(pattern,re.IGNORECASE)\n",
    "for ele in ['Alice eats apples.','Bob pets cats.','Carol throws baseballs.','Alice throws Apples.','BOB EATS CATS.','RoboCop eats apples.'\n",
    ",'ALICE THROWS FOOTBALLS.','Carol eats 7 cats.']:\n",
    "    print('Output: ',ele,'->',casex.search(ele))"
   ]
  },
  {
   "cell_type": "code",
   "execution_count": null,
   "id": "26b9ba1b",
   "metadata": {},
   "outputs": [],
   "source": []
  }
 ],
 "metadata": {
  "kernelspec": {
   "display_name": "Python 3 (ipykernel)",
   "language": "python",
   "name": "python3"
  },
  "language_info": {
   "codemirror_mode": {
    "name": "ipython",
    "version": 3
   },
   "file_extension": ".py",
   "mimetype": "text/x-python",
   "name": "python",
   "nbconvert_exporter": "python",
   "pygments_lexer": "ipython3",
   "version": "3.9.7"
  }
 },
 "nbformat": 4,
 "nbformat_minor": 5
}
