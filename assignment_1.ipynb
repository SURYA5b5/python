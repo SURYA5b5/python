{
 "cells": [
  {
   "cell_type": "markdown",
   "id": "8d1f1473",
   "metadata": {},
   "source": [
    "1.1. In the below elements which of them are values or an expression? eg:- values can be\n",
    "integer or string and expressions will be mathematical operators."
   ]
  },
  {
   "cell_type": "markdown",
   "id": "82b56b77",
   "metadata": {},
   "source": [
    "* --> It is an operator, it is used to multiply two integers\n",
    "\n",
    "'hello'--> It is a string because it containing a word within quotes \n",
    "\n",
    "-87.8 --> Its a float value\n",
    "\n",
    "- --> It is a operator, it is used to gives the difference between 2 values\n",
    "\n",
    "/ --> It is an operator, it is used to divide two values\n",
    "\n",
    "+ --> It is an operator, it is used to add two values\n",
    "\n",
    "6 --> It is an integer"
   ]
  },
  {
   "cell_type": "markdown",
   "id": "f603dd77",
   "metadata": {},
   "source": []
  },
  {
   "cell_type": "code",
   "execution_count": null,
   "id": "011ac7f0",
   "metadata": {},
   "outputs": [],
   "source": [
    "2. What is the difference between string and variable"
   ]
  },
  {
   "cell_type": "markdown",
   "id": "5783ef81",
   "metadata": {},
   "source": [
    "ans)A variable can store everything from strings to numbers.\n",
    "     >A variable can hold a string.\n",
    "     >A string is the values inside the quotes assigned to a string.\n",
    "     <A string contains a group of characters"
   ]
  },
  {
   "cell_type": "markdown",
   "id": "46d489b2",
   "metadata": {},
   "source": [
    "3. Describe three different data types\n",
    "ans-->\n",
    "     >int data type: We can use int data type to represent whole numbers (integral values)\n",
    "     >float data type: We can use float data type to represent floating point values (decimal values)\n",
    "     >complex data type: Complex number is represented by complex class. It is specified as (real part) + (imaginary part)j."
   ]
  },
  {
   "cell_type": "markdown",
   "id": "1fcb9bda",
   "metadata": {},
   "source": [
    "4. What is an expression made up of? What do all expressions do?\n",
    "ans-->\n",
    "     >An expression is a combination of operators and operands that is interpreted to produce some other value. \n",
    "     >In any programming language, an expression is evaluated as per the precedence of its operators. \n",
    "     >So that if there is more than one operator in an expression, \n",
    "      their precedence decides which operation will be performed first.\n",
    "      >we have a some types of expressions:\n",
    "      -->Constant Expressions.\n",
    "      -->Arithmetic Expressions.\n",
    "      -->Integral Expressions.\n",
    "      -->Floating Expressions.\n",
    "      -->Relational Expressions.\n",
    "      -->Logical Expressions.\n",
    "      -->Bitwise Expressions.\n",
    "      -->Combinational Expressions.\n",
    "      "
   ]
  },
  {
   "cell_type": "markdown",
   "id": "dd72bfd4",
   "metadata": {},
   "source": [
    "5. This assignment statements, like spam = 10. What is the difference between an expression and a statement?\n",
    "ans-->\n",
    "    >Expression\n",
    "    -->Expressions always returns a value\n",
    "    -->Functions are also expressions. Even a non returning function will still return None value, so it is an expression.\n",
    "    -->Can print the result value\n",
    "    -->Examples Of Python Expressions: “Hello” + “World”, 4 + 5 etc.\n",
    "    >Statement\n",
    "    -->A statement never returns a value\n",
    "    -->Cannot print any result\n",
    "    -->Examples Of Python Statements: Assignment statements, conditional branching, loops, classes, import, def, try etc."
   ]
  },
  {
   "cell_type": "markdown",
   "id": "a146903f",
   "metadata": {},
   "source": [
    "6. After running the following code, what does the variable bacon contain?"
   ]
  },
  {
   "cell_type": "code",
   "execution_count": 1,
   "id": "114ca55d",
   "metadata": {},
   "outputs": [
    {
     "data": {
      "text/plain": [
       "23"
      ]
     },
     "execution_count": 1,
     "metadata": {},
     "output_type": "execute_result"
    }
   ],
   "source": [
    "bacon = 22\n",
    "bacon + 1"
   ]
  },
  {
   "cell_type": "markdown",
   "id": "f1698e3c",
   "metadata": {},
   "source": [
    "7. What should the values of the following two terms be?\n",
    "'spam'+'spamspam\n",
    "'spam'*3"
   ]
  },
  {
   "cell_type": "code",
   "execution_count": 3,
   "id": "e23a72f7",
   "metadata": {},
   "outputs": [
    {
     "data": {
      "text/plain": [
       "'spamspamspam'"
      ]
     },
     "execution_count": 3,
     "metadata": {},
     "output_type": "execute_result"
    }
   ],
   "source": [
    "'spam'+'spamspam'"
   ]
  },
  {
   "cell_type": "code",
   "execution_count": 4,
   "id": "e9bf4bac",
   "metadata": {},
   "outputs": [
    {
     "data": {
      "text/plain": [
       "'spamspamspam'"
      ]
     },
     "execution_count": 4,
     "metadata": {},
     "output_type": "execute_result"
    }
   ],
   "source": [
    "'spam'*3"
   ]
  },
  {
   "cell_type": "markdown",
   "id": "ec2fb28d",
   "metadata": {},
   "source": [
    "8.Why is eggs a valid variable name while 100 is invalid?"
   ]
  },
  {
   "cell_type": "markdown",
   "id": "860c7523",
   "metadata": {},
   "source": [
    "ans)eggs is a valid variabel, 100 is invalid because variablename cant starts with number. "
   ]
  },
  {
   "cell_type": "markdown",
   "id": "e543c977",
   "metadata": {},
   "source": [
    "9. What three functions can be used to get the integer, floating-point number, or string version of a value?"
   ]
  },
  {
   "cell_type": "code",
   "execution_count": 8,
   "id": "6b6acf91",
   "metadata": {},
   "outputs": [
    {
     "name": "stdout",
     "output_type": "stream",
     "text": [
      "10\n",
      "10.56\n",
      "19\n"
     ]
    }
   ],
   "source": [
    "print(int(10))\n",
    "print(float(10.56))\n",
    "print(str(19))"
   ]
  },
  {
   "cell_type": "markdown",
   "id": "a4f93f05",
   "metadata": {},
   "source": [
    "10. Why does this expression cause an error? How can you fix it?\n",
    "'i have eaten'+ 99 +'burritos'"
   ]
  },
  {
   "cell_type": "markdown",
   "id": "11fad098",
   "metadata": {},
   "source": [
    "we cannot add the string and numerical values"
   ]
  },
  {
   "cell_type": "code",
   "execution_count": 10,
   "id": "f839b3ba",
   "metadata": {},
   "outputs": [
    {
     "ename": "TypeError",
     "evalue": "can only concatenate str (not \"int\") to str",
     "output_type": "error",
     "traceback": [
      "\u001b[1;31m---------------------------------------------------------------------------\u001b[0m",
      "\u001b[1;31mTypeError\u001b[0m                                 Traceback (most recent call last)",
      "\u001b[1;32m~\\AppData\\Local\\Temp/ipykernel_12736/2099172266.py\u001b[0m in \u001b[0;36m<module>\u001b[1;34m\u001b[0m\n\u001b[1;32m----> 1\u001b[1;33m \u001b[0mprint\u001b[0m\u001b[1;33m(\u001b[0m\u001b[1;34m'i have eaten'\u001b[0m\u001b[1;33m+\u001b[0m \u001b[1;36m99\u001b[0m \u001b[1;33m+\u001b[0m\u001b[1;34m'burritos'\u001b[0m\u001b[1;33m)\u001b[0m\u001b[1;33m\u001b[0m\u001b[1;33m\u001b[0m\u001b[0m\n\u001b[0m",
      "\u001b[1;31mTypeError\u001b[0m: can only concatenate str (not \"int\") to str"
     ]
    }
   ],
   "source": [
    "print('i have eaten'+ 99 +'burritos')"
   ]
  },
  {
   "cell_type": "code",
   "execution_count": null,
   "id": "3b7ed991",
   "metadata": {},
   "outputs": [],
   "source": []
  }
 ],
 "metadata": {
  "kernelspec": {
   "display_name": "Python 3 (ipykernel)",
   "language": "python",
   "name": "python3"
  },
  "language_info": {
   "codemirror_mode": {
    "name": "ipython",
    "version": 3
   },
   "file_extension": ".py",
   "mimetype": "text/x-python",
   "name": "python",
   "nbconvert_exporter": "python",
   "pygments_lexer": "ipython3",
   "version": "3.9.7"
  }
 },
 "nbformat": 4,
 "nbformat_minor": 5
}
