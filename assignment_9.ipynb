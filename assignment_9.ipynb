{
 "cells": [
  {
   "cell_type": "markdown",
   "id": "dcef10e6",
   "metadata": {},
   "source": [
    "1. To what does a relative path refer?"
   ]
  },
  {
   "cell_type": "raw",
   "id": "4ee3e0f3",
   "metadata": {},
   "source": [
    "ANS:-pwd+relativepath=absolute path"
   ]
  },
  {
   "cell_type": "code",
   "execution_count": 1,
   "id": "99d96768",
   "metadata": {},
   "outputs": [
    {
     "data": {
      "text/plain": [
       "'C:\\\\Users\\\\surya\\\\Desktop\\\\jupyter'"
      ]
     },
     "execution_count": 1,
     "metadata": {},
     "output_type": "execute_result"
    }
   ],
   "source": [
    "pwd"
   ]
  },
  {
   "cell_type": "raw",
   "id": "b3528e9b",
   "metadata": {},
   "source": [
    "relative path='test2.txt'"
   ]
  },
  {
   "cell_type": "markdown",
   "id": "f2ea675c",
   "metadata": {},
   "source": [
    "2. What does an absolute path start with your operating system?"
   ]
  },
  {
   "cell_type": "raw",
   "id": "7a21584d",
   "metadata": {},
   "source": [
    "ANS:-pwd+relativepath=absolute path\n",
    "     absolute path='C:\\\\Users\\\\surya\\\\Desktop\\\\jupyter\\\\test2.txt'"
   ]
  },
  {
   "cell_type": "markdown",
   "id": "939ddd53",
   "metadata": {},
   "source": [
    "3. What do the functions os.getcwd() and os.chdir() do?"
   ]
  },
  {
   "cell_type": "raw",
   "id": "1bfd55c2",
   "metadata": {},
   "source": [
    "ANS:-os.getcwd()-->current working directory.\n",
    "     os.chdir()--->change current working directory."
   ]
  },
  {
   "cell_type": "code",
   "execution_count": 6,
   "id": "5f1a2b74",
   "metadata": {},
   "outputs": [
    {
     "name": "stdout",
     "output_type": "stream",
     "text": [
      "C:\\Users\\surya\\Desktop\\jupyter\n"
     ]
    }
   ],
   "source": [
    "import os\n",
    "print(os.getcwd())"
   ]
  },
  {
   "cell_type": "code",
   "execution_count": 36,
   "id": "18b06112",
   "metadata": {},
   "outputs": [],
   "source": [
    "import os\n",
    "s=\"C:\\\\Users\\\\surya\\\\Desktop\"\n",
    "os.chdir(s)"
   ]
  },
  {
   "cell_type": "code",
   "execution_count": 37,
   "id": "0536b1dd",
   "metadata": {},
   "outputs": [
    {
     "data": {
      "text/plain": [
       "'C:\\\\Users\\\\surya\\\\Desktop'"
      ]
     },
     "execution_count": 37,
     "metadata": {},
     "output_type": "execute_result"
    }
   ],
   "source": [
    "pwd"
   ]
  },
  {
   "cell_type": "code",
   "execution_count": 38,
   "id": "850177bd",
   "metadata": {},
   "outputs": [],
   "source": [
    "import os\n",
    "s=\"C:\\\\Users\\\\surya\\\\Desktop\\\\jupyter\"\n",
    "os.chdir(s)"
   ]
  },
  {
   "cell_type": "code",
   "execution_count": 39,
   "id": "74582434",
   "metadata": {},
   "outputs": [
    {
     "data": {
      "text/plain": [
       "'C:\\\\Users\\\\surya\\\\Desktop\\\\jupyter'"
      ]
     },
     "execution_count": 39,
     "metadata": {},
     "output_type": "execute_result"
    }
   ],
   "source": [
    "pwd"
   ]
  },
  {
   "cell_type": "markdown",
   "id": "20255d49",
   "metadata": {},
   "source": [
    "4. What are the . and .. folders?"
   ]
  },
  {
   "cell_type": "raw",
   "id": "3728a81f",
   "metadata": {},
   "source": [
    "ANS:- (.)-->represents current directory-->\"C:\\\\Users\\\\surya\\\\Desktop\\\\jupyter\"\n",
    "      (..)->represents parent directory--->\"C:\\\\Users\\\\surya\\\\Desktop\\\\jupyter.test.txt\""
   ]
  },
  {
   "cell_type": "markdown",
   "id": "db3ff3f1",
   "metadata": {},
   "source": [
    "5. In C:\\bacon\\eggs\\spam.txt, which part is the dir name, and which part is the base name?"
   ]
  },
  {
   "cell_type": "raw",
   "id": "d87e3dea",
   "metadata": {},
   "source": [
    "ANS:-In the above directory C:\\bacon\\eggs\\spam.txt\n",
    "     dirname=C:\\bacon\\eggs\n",
    "     basename=spam.txt"
   ]
  },
  {
   "cell_type": "markdown",
   "id": "1277caac",
   "metadata": {},
   "source": [
    "6. What are the three “mode” arguments that can be passed to the open() function?"
   ]
  },
  {
   "cell_type": "raw",
   "id": "04a15ede",
   "metadata": {},
   "source": [
    "ANS:-syntax for open is name=open(\"filename\",\"mode\").\n",
    "     three modes are r , w , r+\n",
    "     r-->read the file.\n",
    "     w-->write into a file.\n",
    "     r+->both read and write."
   ]
  },
  {
   "cell_type": "code",
   "execution_count": 41,
   "id": "28222ebd",
   "metadata": {},
   "outputs": [],
   "source": [
    "f=open(\"test4.txt\",\"r\")"
   ]
  },
  {
   "cell_type": "code",
   "execution_count": 42,
   "id": "5f44cf3a",
   "metadata": {},
   "outputs": [
    {
     "data": {
      "text/plain": [
       "'sarigamapadanisa\\n'"
      ]
     },
     "execution_count": 42,
     "metadata": {},
     "output_type": "execute_result"
    }
   ],
   "source": [
    "f.read()"
   ]
  },
  {
   "cell_type": "code",
   "execution_count": 44,
   "id": "256a6f80",
   "metadata": {},
   "outputs": [],
   "source": [
    "f.close()"
   ]
  },
  {
   "cell_type": "code",
   "execution_count": 45,
   "id": "b912d5ef",
   "metadata": {},
   "outputs": [
    {
     "data": {
      "text/plain": [
       "11"
      ]
     },
     "execution_count": 45,
     "metadata": {},
     "output_type": "execute_result"
    }
   ],
   "source": [
    "f=open(\"test4.txt\",\"w\")\n",
    "f.write(\"start music\")"
   ]
  },
  {
   "cell_type": "code",
   "execution_count": 49,
   "id": "6d6becba",
   "metadata": {},
   "outputs": [],
   "source": [
    "f.close()"
   ]
  },
  {
   "cell_type": "code",
   "execution_count": 55,
   "id": "6e42f765",
   "metadata": {},
   "outputs": [
    {
     "data": {
      "text/plain": [
       "'t music'"
      ]
     },
     "execution_count": 55,
     "metadata": {},
     "output_type": "execute_result"
    }
   ],
   "source": [
    "f=open(\"test4.txt\",\"r+\")\n",
    "f.write(\"care\")\n",
    "f.read()"
   ]
  },
  {
   "cell_type": "markdown",
   "id": "cca24e0b",
   "metadata": {},
   "source": [
    "7. What happens if an existing file is opened in write mode?"
   ]
  },
  {
   "cell_type": "raw",
   "id": "2923b7a6",
   "metadata": {},
   "source": [
    "using this write mode no other data created when opened in writing mode.Given file does not exists another file will be created."
   ]
  },
  {
   "cell_type": "markdown",
   "id": "8c083fe8",
   "metadata": {},
   "source": [
    "8. How do you tell the difference between read() and readlines()?"
   ]
  },
  {
   "cell_type": "raw",
   "id": "3b6b2a4f",
   "metadata": {},
   "source": [
    "ANS:-read()--> this function is used to read entire file in a data.\n",
    "     realines()-->this function is used to read line by line data."
   ]
  },
  {
   "cell_type": "code",
   "execution_count": 57,
   "id": "3803e29f",
   "metadata": {},
   "outputs": [],
   "source": [
    "f.close()"
   ]
  },
  {
   "cell_type": "code",
   "execution_count": 58,
   "id": "a71e218a",
   "metadata": {},
   "outputs": [],
   "source": [
    "f=open(\"test2.txt\",\"r\")"
   ]
  },
  {
   "cell_type": "code",
   "execution_count": 59,
   "id": "95caca1b",
   "metadata": {},
   "outputs": [
    {
     "data": {
      "text/plain": [
       "'this is test2this is test1this is test5this is test6 code look like?\\nWhat is the value of a dictionary value with the key \\'foo\\' and the value 42?\\nWhat is the most significant distinction between a dictionary and a list?\\nWhat happens if you try to access spam[\\'foo\\'] if spam is {\\'bar\\': 100}?\\nIf a dictionary is stored in spam, what is the difference between the expressions \\'cat\\' in spam and \\'cat\\' in spam.keys()?\\nIf a dictionary is stored in spam, what is the difference between the expressions \\'cat\\' in spam and \\'cat\\' in spam.values()?\\nWhat is a shortcut for the following code?\\nif \\'color\\' not in spam:\\nspam[\\'color\\'] = \\'black\\'\\nHow do you \"pretty print\" dictionary values using which module and function?\\n\\nthis is test1this is test5this is test6this is test1this is test5this is test6'"
      ]
     },
     "execution_count": 59,
     "metadata": {},
     "output_type": "execute_result"
    }
   ],
   "source": [
    "f.read()"
   ]
  },
  {
   "cell_type": "code",
   "execution_count": 61,
   "id": "40f69a69",
   "metadata": {},
   "outputs": [
    {
     "data": {
      "text/plain": [
       "0"
      ]
     },
     "execution_count": 61,
     "metadata": {},
     "output_type": "execute_result"
    }
   ],
   "source": [
    "f.seek(0)"
   ]
  },
  {
   "cell_type": "code",
   "execution_count": 62,
   "id": "50f8980e",
   "metadata": {},
   "outputs": [
    {
     "data": {
      "text/plain": [
       "['this is test2this is test1this is test5this is test6 code look like?\\n',\n",
       " \"What is the value of a dictionary value with the key 'foo' and the value 42?\\n\",\n",
       " 'What is the most significant distinction between a dictionary and a list?\\n',\n",
       " \"What happens if you try to access spam['foo'] if spam is {'bar': 100}?\\n\",\n",
       " \"If a dictionary is stored in spam, what is the difference between the expressions 'cat' in spam and 'cat' in spam.keys()?\\n\",\n",
       " \"If a dictionary is stored in spam, what is the difference between the expressions 'cat' in spam and 'cat' in spam.values()?\\n\",\n",
       " 'What is a shortcut for the following code?\\n',\n",
       " \"if 'color' not in spam:\\n\",\n",
       " \"spam['color'] = 'black'\\n\",\n",
       " 'How do you \"pretty print\" dictionary values using which module and function?\\n',\n",
       " '\\n',\n",
       " 'this is test1this is test5this is test6this is test1this is test5this is test6']"
      ]
     },
     "execution_count": 62,
     "metadata": {},
     "output_type": "execute_result"
    }
   ],
   "source": [
    "f.readlines()"
   ]
  },
  {
   "cell_type": "code",
   "execution_count": 63,
   "id": "af2d0e04",
   "metadata": {},
   "outputs": [],
   "source": [
    "f.close()"
   ]
  },
  {
   "cell_type": "markdown",
   "id": "77d93505",
   "metadata": {},
   "source": [
    "9. What data structure does a shelf value resemble?"
   ]
  },
  {
   "cell_type": "raw",
   "id": "2c66dd82",
   "metadata": {},
   "source": [
    "ANS:Its contains keys and values.It reprseents a dictinory. "
   ]
  },
  {
   "cell_type": "code",
   "execution_count": null,
   "id": "7ba1437c",
   "metadata": {},
   "outputs": [],
   "source": []
  }
 ],
 "metadata": {
  "kernelspec": {
   "display_name": "Python 3 (ipykernel)",
   "language": "python",
   "name": "python3"
  },
  "language_info": {
   "codemirror_mode": {
    "name": "ipython",
    "version": 3
   },
   "file_extension": ".py",
   "mimetype": "text/x-python",
   "name": "python",
   "nbconvert_exporter": "python",
   "pygments_lexer": "ipython3",
   "version": "3.9.7"
  }
 },
 "nbformat": 4,
 "nbformat_minor": 5
}
