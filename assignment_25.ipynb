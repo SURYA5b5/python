{
 "cells": [
  {
   "cell_type": "markdown",
   "id": "d89cf08f",
   "metadata": {},
   "source": [
    "1) What is the difference between enclosing a list comprehension in square brackets and parentheses?"
   ]
  },
  {
   "cell_type": "raw",
   "id": "2a7a0d7e",
   "metadata": {},
   "source": [
    "Ans:-Enclosing a list comprehension in square brackets returns a list.but where as enclosing a list comprehension in  \n",
    "     parentheses returns a generator object"
   ]
  },
  {
   "cell_type": "code",
   "execution_count": 1,
   "id": "2cae70ef",
   "metadata": {},
   "outputs": [
    {
     "name": "stdout",
     "output_type": "stream",
     "text": [
      "[0, 1, 2, 3, 4, 5, 6, 7, 8, 9] <class 'list'>\n",
      "<generator object <genexpr> at 0x00000187ACB1AAC0> <class 'generator'>\n"
     ]
    }
   ],
   "source": [
    "l = [ele for ele in range(10)]\n",
    "print(l, type(l))\n",
    "g = (ele for ele in range(10))\n",
    "print(g, type(g))"
   ]
  },
  {
   "cell_type": "markdown",
   "id": "df0c9e95",
   "metadata": {},
   "source": [
    "2) What is the relationship between generators and iterators?"
   ]
  },
  {
   "cell_type": "raw",
   "id": "35348012",
   "metadata": {},
   "source": [
    "Ans:-Ans: An iterator is an object which contains a countable number of values and it is used to iterate over iterable objects\n",
    "     like list, tuples, sets, etc. Iterators are implemented using a class. It follows lazy evaluation where the evaluation of \n",
    "     the expression will be on hold and stored in the memory until the item is called specifically which helps us to avoid\n",
    "     repeated evaluation. As lazy evaluation is implemented, it requires only 1 memory location to process the value and when\n",
    "     we are using a large dataset then, wastage of RAM space will be reduced the need to load the entire dataset at the same        time will not be there.For an iterator: iter() keyword is used to create an iterator containing an iterable object.next() \n",
    "     keyword is used to call the next element in the iterable object.\n",
    "\n",
    "     Similarly Generators are an another way of creating iterators in a simple way where it uses the keyword yield statement\n",
    "     instead of return statement in a defined function.Generators are implemented using a function. Just as iterators, \n",
    "     generators also follow lazy evaluation. Here, the yield function returns the data without affecting or exiting the \n",
    "     function. It will return a sequence of data in an iterable format where we need to iterate over the sequence to use the \n",
    "     data as they won’t store the entire sequence in the memory."
   ]
  },
  {
   "cell_type": "code",
   "execution_count": 2,
   "id": "7ec9ff80",
   "metadata": {},
   "outputs": [
    {
     "name": "stdout",
     "output_type": "stream",
     "text": [
      "<class 'list_iterator'>\n",
      "iNeuron\n",
      "Full\n",
      "Stack\n",
      "Data Science\n",
      "<list_iterator object at 0x00000187ACB34490>\n",
      "0\n",
      "1\n",
      "8\n",
      "27\n",
      "64\n"
     ]
    }
   ],
   "source": [
    "# Example of iterartor\n",
    "iter_str = iter(['iNeuron','Full','Stack','Data Science'])\n",
    "print(type(iter_str))\n",
    "print(next(iter_str))\n",
    "print(next(iter_str))\n",
    "print(next(iter_str))\n",
    "print(next(iter_str))\n",
    "print(iter_str) # After the iterable object is completed, to use them again we have reassign them to the same object.\n",
    "\n",
    "# Example of Generator\n",
    "def cube_numbers(in_num):\n",
    "    for ele in range(in_num+1):\n",
    "        yield ele**3\n",
    "\n",
    "out_num = cube_numbers(4)\n",
    "print(next(out_num))\n",
    "print(next(out_num))\n",
    "print(next(out_num))\n",
    "print(next(out_num))\n",
    "print(next(out_num))"
   ]
  },
  {
   "cell_type": "markdown",
   "id": "8ea09829",
   "metadata": {},
   "source": [
    "3) What are the signs that a function is a generator function?"
   ]
  },
  {
   "cell_type": "raw",
   "id": "f6e6328a",
   "metadata": {},
   "source": [
    "Ans:- A generator function uses a yield statement instead of a return statement. A generator function will always return a \n",
    "      iterable object called generator. where as a normal function can return a string/list/tuple/dict/NoneType ... etc"
   ]
  },
  {
   "cell_type": "markdown",
   "id": "56e33abb",
   "metadata": {},
   "source": [
    "4) What is the purpose of a yield statement?"
   ]
  },
  {
   "cell_type": "raw",
   "id": "e8160158",
   "metadata": {},
   "source": [
    "Ans:-The yield statement suspends function’s execution and sends a value back to the caller, but retains enough state to enable\n",
    "     function to resume where it is left off. When resumed, the function continues execution immediately after the last yield \n",
    "     run. This allows its code to produce a series of values over time, rather than computing them at once and sending them \n",
    "     back like a list."
   ]
  },
  {
   "cell_type": "markdown",
   "id": "69c9cad5",
   "metadata": {},
   "source": [
    "5) What is the relationship between map calls and list comprehensions? Make a comparison and contrast between the two."
   ]
  },
  {
   "cell_type": "code",
   "execution_count": null,
   "id": "fad62f37",
   "metadata": {},
   "outputs": [],
   "source": [
    "Ans:-The main differences between map calls and list comprehensiosn are:\n",
    "\n",
    "--->List comprehension is more concise and easier to read as compared to map.\n",
    "--->List comprehension allows filtering. In map, we have no such facility. For example, to print all odd numbers in range of 50, we can write [n for n in range(50) if n%2 != 0]. There is no alternate for it in map\n",
    "--->List comprehension are used when a list of results is required as final output.but map only returns a map object. it needs to be explicitly coverted to desired datatype.\n",
    "--->List comprehension is faster than map when we need to evaluate expressions that are too long or complicated to express\n",
    "--->Map is faster in case of calling an already defined function on a set of values."
   ]
  }
 ],
 "metadata": {
  "kernelspec": {
   "display_name": "Python 3 (ipykernel)",
   "language": "python",
   "name": "python3"
  },
  "language_info": {
   "codemirror_mode": {
    "name": "ipython",
    "version": 3
   },
   "file_extension": ".py",
   "mimetype": "text/x-python",
   "name": "python",
   "nbconvert_exporter": "python",
   "pygments_lexer": "ipython3",
   "version": "3.9.7"
  }
 },
 "nbformat": 4,
 "nbformat_minor": 5
}
