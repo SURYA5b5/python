{
 "cells": [
  {
   "cell_type": "markdown",
   "id": "66c6d042",
   "metadata": {},
   "source": [
    "1.What are the two values of the Boolean data type? How do you write them?"
   ]
  },
  {
   "cell_type": "markdown",
   "id": "394a3f15",
   "metadata": {},
   "source": [
    "ANS:- True and False are two values of boolean datatypes\n",
    "      EX:=True\n",
    "          False"
   ]
  },
  {
   "cell_type": "code",
   "execution_count": 1,
   "id": "ea16848d",
   "metadata": {},
   "outputs": [
    {
     "data": {
      "text/plain": [
       "True"
      ]
     },
     "execution_count": 1,
     "metadata": {},
     "output_type": "execute_result"
    }
   ],
   "source": [
    "a=1\n",
    "b=5\n",
    "a<b"
   ]
  },
  {
   "cell_type": "code",
   "execution_count": 2,
   "id": "25b021a2",
   "metadata": {},
   "outputs": [
    {
     "data": {
      "text/plain": [
       "False"
      ]
     },
     "execution_count": 2,
     "metadata": {},
     "output_type": "execute_result"
    }
   ],
   "source": [
    "a=1\n",
    "b=5\n",
    "a>b"
   ]
  },
  {
   "cell_type": "markdown",
   "id": "bca96cb5",
   "metadata": {},
   "source": [
    "2. What are the three different types of Boolean operators?"
   ]
  },
  {
   "cell_type": "raw",
   "id": "6c992471",
   "metadata": {},
   "source": [
    "ANS:- Boolen operators are used to returns result either True or False\n",
    "      EX:-1) and\n",
    "          2) or\n",
    "          3) not"
   ]
  },
  {
   "cell_type": "code",
   "execution_count": 5,
   "id": "2899b834",
   "metadata": {},
   "outputs": [
    {
     "name": "stdout",
     "output_type": "stream",
     "text": [
      "True\n",
      "False\n",
      "False\n"
     ]
    }
   ],
   "source": [
    "a=1\n",
    "b=5\n",
    "c=1\n",
    "print(a==c or a==b)\n",
    "print(not(a<b))\n",
    "print(a==b and a<c)"
   ]
  },
  {
   "cell_type": "markdown",
   "id": "d0b7584f",
   "metadata": {},
   "source": [
    "3. Make a list of each Boolean operator's truth tables (i.e. every possible combination of Boolean values for the operator and what it evaluate )."
   ]
  },
  {
   "cell_type": "raw",
   "id": "7e454f9a",
   "metadata": {},
   "source": [
    "-->Truth table for (and)\n",
    "    True and True = True\n",
    "    True and False= False\n",
    "    False and True= False\n",
    "    False and False= False\n",
    "   \n",
    "-->Truth table for (or)\n",
    "    True or True = True\n",
    "    True or False= True\n",
    "    False or True= True\n",
    "    False or False= False\n",
    "-->Truth table for (not)\n",
    "    not(True)=False\n",
    "    not(False)=True\n"
   ]
  },
  {
   "cell_type": "code",
   "execution_count": 7,
   "id": "d0a5895e",
   "metadata": {},
   "outputs": [
    {
     "name": "stdout",
     "output_type": "stream",
     "text": [
      "True\n",
      "False\n",
      "False\n",
      "False\n"
     ]
    }
   ],
   "source": [
    "    print(True and True)\n",
    "    print(True and False)\n",
    "    print(False and True)\n",
    "    print(False and False)"
   ]
  },
  {
   "cell_type": "code",
   "execution_count": 8,
   "id": "c1f6c2c9",
   "metadata": {},
   "outputs": [
    {
     "name": "stdout",
     "output_type": "stream",
     "text": [
      "True\n",
      "True\n",
      "True\n",
      "False\n"
     ]
    }
   ],
   "source": [
    "    print(True or True)\n",
    "    print(True or False)\n",
    "    print(False or True)\n",
    "    print(False or False)"
   ]
  },
  {
   "cell_type": "code",
   "execution_count": 10,
   "id": "f662f373",
   "metadata": {},
   "outputs": [
    {
     "name": "stdout",
     "output_type": "stream",
     "text": [
      "False\n",
      "True\n"
     ]
    }
   ],
   "source": [
    "    print(not(True))\n",
    "    print(not(False))"
   ]
  },
  {
   "cell_type": "markdown",
   "id": "edb196af",
   "metadata": {},
   "source": [
    "4. What are the values of the following expressions?\n",
    "(5 > 4) and (3 == 5)\n",
    "not (5 > 4)\n",
    "(5 > 4) or (3 == 5)\n",
    "not ((5 > 4) or (3 == 5))\n",
    "(True and True) and (True == False)\n",
    "(not False) or (not True)\n"
   ]
  },
  {
   "cell_type": "code",
   "execution_count": 11,
   "id": "3c8de967",
   "metadata": {},
   "outputs": [
    {
     "name": "stdout",
     "output_type": "stream",
     "text": [
      "False\n"
     ]
    }
   ],
   "source": [
    "print((5 > 4) and (3 == 5))"
   ]
  },
  {
   "cell_type": "code",
   "execution_count": 13,
   "id": "74de7b48",
   "metadata": {},
   "outputs": [
    {
     "name": "stdout",
     "output_type": "stream",
     "text": [
      "False\n"
     ]
    }
   ],
   "source": [
    "print(not (5 > 4))"
   ]
  },
  {
   "cell_type": "code",
   "execution_count": 14,
   "id": "9bb639a5",
   "metadata": {},
   "outputs": [
    {
     "name": "stdout",
     "output_type": "stream",
     "text": [
      "True\n"
     ]
    }
   ],
   "source": [
    "print((5 > 4) or (3 == 5))"
   ]
  },
  {
   "cell_type": "code",
   "execution_count": 15,
   "id": "c17ab47f",
   "metadata": {},
   "outputs": [
    {
     "name": "stdout",
     "output_type": "stream",
     "text": [
      "False\n"
     ]
    }
   ],
   "source": [
    "print(not ((5 > 4) or (3 == 5)))"
   ]
  },
  {
   "cell_type": "code",
   "execution_count": 16,
   "id": "06478918",
   "metadata": {},
   "outputs": [
    {
     "name": "stdout",
     "output_type": "stream",
     "text": [
      "False\n"
     ]
    }
   ],
   "source": [
    "print((True and True) and (True == False))"
   ]
  },
  {
   "cell_type": "code",
   "execution_count": 17,
   "id": "b7b18232",
   "metadata": {},
   "outputs": [
    {
     "name": "stdout",
     "output_type": "stream",
     "text": [
      "True\n"
     ]
    }
   ],
   "source": [
    "print((not False) or (not True))"
   ]
  },
  {
   "cell_type": "markdown",
   "id": "716496ae",
   "metadata": {},
   "source": [
    "5. What are the six comparison operators?"
   ]
  },
  {
   "cell_type": "raw",
   "id": "3ba1074d",
   "metadata": {},
   "source": [
    "ANS:-six comparison operators are:\n",
    "        (==),(!=),(>),(<),(<=),(>=)\n",
    "        "
   ]
  },
  {
   "cell_type": "code",
   "execution_count": 18,
   "id": "d3b8112f",
   "metadata": {},
   "outputs": [
    {
     "name": "stdout",
     "output_type": "stream",
     "text": [
      "True\n",
      "False\n",
      "True\n",
      "False\n",
      "True\n",
      "False\n"
     ]
    }
   ],
   "source": [
    "a=1\n",
    "b=5\n",
    "c=1\n",
    "print(a<b)\n",
    "print(a>b)\n",
    "print(a<=b)\n",
    "print(a>=b)\n",
    "print(a==c)\n",
    "print(a!=c)"
   ]
  },
  {
   "cell_type": "markdown",
   "id": "e0727858",
   "metadata": {},
   "source": [
    "6. How do you tell the difference between the equal to and assignment operators?Describe a condition and when you would use one."
   ]
  },
  {
   "cell_type": "markdown",
   "id": "aaaf7e03",
   "metadata": {},
   "source": [
    "ANS:-equalto(==) operator is used to camparison between variable, it requires two values.\n",
    "     assignment(=) opertor is used to store the values in a variable, it requires on value."
   ]
  },
  {
   "cell_type": "code",
   "execution_count": 22,
   "id": "84b5733f",
   "metadata": {},
   "outputs": [
    {
     "name": "stdout",
     "output_type": "stream",
     "text": [
      "a= 1\n",
      "its: True\n"
     ]
    }
   ],
   "source": [
    "#assignment operator(=)\n",
    "a=1\n",
    "print(\"a=\",a)\n",
    "#comparison operator(==)\n",
    "b=1\n",
    "print(\"its:\",a==b)"
   ]
  },
  {
   "cell_type": "markdown",
   "id": "e9148941",
   "metadata": {},
   "source": [
    "7. Identify the three blocks in this code:"
   ]
  },
  {
   "cell_type": "raw",
   "id": "226085e9",
   "metadata": {},
   "source": [
    "spam = 0\n",
    "if spam == 10:\n",
    "print('eggs')\n",
    "if spam > 5:\n",
    "print('bacon')\n",
    "else:\n",
    "print('ham')\n",
    "print('spam')\n",
    "print('spam')\n"
   ]
  },
  {
   "cell_type": "code",
   "execution_count": 24,
   "id": "4af9c8a6",
   "metadata": {},
   "outputs": [
    {
     "name": "stdout",
     "output_type": "stream",
     "text": [
      "ham\n",
      "spam\n",
      "spam\n"
     ]
    }
   ],
   "source": [
    "spam = 0\n",
    "if spam == 10:\n",
    "    print('eggs')\n",
    "if spam > 5:\n",
    "    print('bacon')\n",
    "else:\n",
    "    print('ham')\n",
    "print('spam')\n",
    "print('spam')"
   ]
  },
  {
   "cell_type": "markdown",
   "id": "739f1bcc",
   "metadata": {},
   "source": [
    "8. Write code that prints Hello if 1 is stored in spam, prints Howdy if 2 is stored in spam, and prints Greetings! if anything else is stored in spam."
   ]
  },
  {
   "cell_type": "code",
   "execution_count": 25,
   "id": "e04a7fc1",
   "metadata": {},
   "outputs": [
    {
     "name": "stdout",
     "output_type": "stream",
     "text": [
      "1\n",
      "hello\n"
     ]
    }
   ],
   "source": [
    "#normal selected input\n",
    "spam=int(input())\n",
    "if(spam==1):\n",
    "    print(\"hello\")\n",
    "elif(spam==2):\n",
    "    print(\"howdy\")\n",
    "else:\n",
    "    print(\" Greetings!\")"
   ]
  },
  {
   "cell_type": "code",
   "execution_count": 27,
   "id": "60e24be4",
   "metadata": {},
   "outputs": [
    {
     "name": "stdout",
     "output_type": "stream",
     "text": [
      "hello\n",
      "howdy\n",
      "Greetings!\n",
      "Greetings!\n"
     ]
    }
   ],
   "source": [
    "#By using function\n",
    "def use(spam):\n",
    "    if(spam==1):\n",
    "        return \"hello\"\n",
    "    elif(spam==2):\n",
    "        return \"howdy\"\n",
    "    else:\n",
    "        return \"Greetings!\"\n",
    "print(use(1))\n",
    "print(use(2))\n",
    "print(use(3))\n",
    "print(use(7))"
   ]
  },
  {
   "cell_type": "markdown",
   "id": "a269d286",
   "metadata": {},
   "source": [
    "9.If your programme is stuck in an endless loop, what keys you’ll press?"
   ]
  },
  {
   "cell_type": "raw",
   "id": "a8078bcb",
   "metadata": {},
   "source": [
    "ANS:-Ctrl+c"
   ]
  },
  {
   "cell_type": "markdown",
   "id": "411acd17",
   "metadata": {},
   "source": [
    "10. How can you tell the difference between break and continue?"
   ]
  },
  {
   "cell_type": "raw",
   "id": "1332fc03",
   "metadata": {},
   "source": [
    "ANS:-\n",
    "    break:-it is used to stop the loop.\n",
    "    continue:-it is used to stop only the current iteration."
   ]
  },
  {
   "cell_type": "code",
   "execution_count": 31,
   "id": "02a2472d",
   "metadata": {},
   "outputs": [
    {
     "name": "stdout",
     "output_type": "stream",
     "text": [
      "0\n",
      "1\n",
      "2\n",
      "3\n"
     ]
    }
   ],
   "source": [
    "#break\n",
    "for i in range(0,8):\n",
    "    if(i==4):\n",
    "        break\n",
    "    print(i)"
   ]
  },
  {
   "cell_type": "code",
   "execution_count": 32,
   "id": "e2f90192",
   "metadata": {},
   "outputs": [
    {
     "name": "stdout",
     "output_type": "stream",
     "text": [
      "0\n",
      "1\n",
      "2\n",
      "3\n",
      "5\n",
      "6\n",
      "7\n"
     ]
    }
   ],
   "source": [
    "#continue\n",
    "for i in range(0,8):\n",
    "    if(i==4):\n",
    "        continue\n",
    "    print(i)"
   ]
  },
  {
   "cell_type": "markdown",
   "id": "672db8ad",
   "metadata": {},
   "source": [
    "11. In a for loop, what is the difference between range(10), range(0, 10), and range(0, 10, 1)?"
   ]
  },
  {
   "cell_type": "raw",
   "id": "ea88bc7a",
   "metadata": {},
   "source": [
    "ANS:- range(10) #it prints upto 10.\n",
    "      range(0,10) #it prints the starting value from 0 to ending point 10.\n",
    "      range(0,10,1) #it prints the starting value from 0 to ending point 10 with the sigle sequence."
   ]
  },
  {
   "cell_type": "code",
   "execution_count": 39,
   "id": "f9ea926d",
   "metadata": {},
   "outputs": [
    {
     "name": "stdout",
     "output_type": "stream",
     "text": [
      "0\n",
      "1\n",
      "2\n",
      "3\n",
      "4\n",
      "5\n",
      "6\n",
      "7\n",
      "8\n",
      "9\n"
     ]
    }
   ],
   "source": [
    "for i in range(10):\n",
    "    print(i)"
   ]
  },
  {
   "cell_type": "code",
   "execution_count": 38,
   "id": "ba17a91b",
   "metadata": {},
   "outputs": [
    {
     "name": "stdout",
     "output_type": "stream",
     "text": [
      "0\n",
      "1\n",
      "2\n",
      "3\n",
      "4\n",
      "5\n",
      "6\n",
      "7\n",
      "8\n",
      "9\n"
     ]
    }
   ],
   "source": [
    "for i in range(0,10):\n",
    "    print(i)"
   ]
  },
  {
   "cell_type": "code",
   "execution_count": 37,
   "id": "ed9d38e5",
   "metadata": {},
   "outputs": [
    {
     "name": "stdout",
     "output_type": "stream",
     "text": [
      "0\n",
      "1\n",
      "2\n",
      "3\n",
      "4\n",
      "5\n",
      "6\n",
      "7\n",
      "8\n",
      "9\n"
     ]
    }
   ],
   "source": [
    "for i in range(0,10,1):\n",
    "    print(i)"
   ]
  },
  {
   "cell_type": "markdown",
   "id": "9fe6e415",
   "metadata": {},
   "source": [
    "12. Write a short program that prints the numbers 1 to 10 using a for loop. Then write an equivalent program that prints the numbers 1 to 10 using a while loop."
   ]
  },
  {
   "cell_type": "code",
   "execution_count": 2,
   "id": "993168b0",
   "metadata": {},
   "outputs": [
    {
     "name": "stdout",
     "output_type": "stream",
     "text": [
      "1\n",
      "2\n",
      "3\n",
      "4\n",
      "5\n",
      "6\n",
      "7\n",
      "8\n",
      "9\n",
      "10\n"
     ]
    }
   ],
   "source": [
    "for i in range(1,11):\n",
    "    print(i)"
   ]
  },
  {
   "cell_type": "code",
   "execution_count": 4,
   "id": "8113d2e7",
   "metadata": {},
   "outputs": [
    {
     "name": "stdout",
     "output_type": "stream",
     "text": [
      "1\n",
      "2\n",
      "3\n",
      "4\n",
      "5\n",
      "6\n",
      "7\n",
      "8\n",
      "9\n",
      "10\n"
     ]
    }
   ],
   "source": [
    "#while loop\n",
    "j=1\n",
    "while(j<11\n",
    "     ):\n",
    "    print(j)\n",
    "    j=j+1"
   ]
  },
  {
   "cell_type": "markdown",
   "id": "36bbd952",
   "metadata": {},
   "source": [
    "13. If you had a function named bacon() inside a module named spam, how would you call it after importing spam?"
   ]
  },
  {
   "cell_type": "markdown",
   "id": "0eaa1f2c",
   "metadata": {},
   "source": [
    "ANS:-spam.bacon()"
   ]
  },
  {
   "cell_type": "code",
   "execution_count": null,
   "id": "502ca5f1",
   "metadata": {},
   "outputs": [],
   "source": []
  }
 ],
 "metadata": {
  "kernelspec": {
   "display_name": "Python 3 (ipykernel)",
   "language": "python",
   "name": "python3"
  },
  "language_info": {
   "codemirror_mode": {
    "name": "ipython",
    "version": 3
   },
   "file_extension": ".py",
   "mimetype": "text/x-python",
   "name": "python",
   "nbconvert_exporter": "python",
   "pygments_lexer": "ipython3",
   "version": "3.9.7"
  }
 },
 "nbformat": 4,
 "nbformat_minor": 5
}
