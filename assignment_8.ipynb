{
 "cells": [
  {
   "cell_type": "markdown",
   "id": "aad21b74",
   "metadata": {},
   "source": [
    "1. Is the Python Standard Library included with PyInputPlus?"
   ]
  },
  {
   "cell_type": "raw",
   "id": "5dd00347",
   "metadata": {},
   "source": [
    "ANS:-PyInputPlus is not a part of python standard library.\n",
    "     we must install it seperately using pip."
   ]
  },
  {
   "cell_type": "markdown",
   "id": "d2b86ad5",
   "metadata": {},
   "source": [
    "2. Why is PyInputPlus commonly imported with import pyinputplus as pypi?"
   ]
  },
  {
   "cell_type": "raw",
   "id": "ec73ec20",
   "metadata": {},
   "source": [
    "ANS:-pyip is a alias name of PyInputPlus.After importing PyInputPlus everytime calling means enter everytime is not easier than\n",
    "     giving alias short name and call."
   ]
  },
  {
   "cell_type": "markdown",
   "id": "9e650b01",
   "metadata": {},
   "source": [
    "3. How do you distinguish between inputInt() and inputFloat()?"
   ]
  },
  {
   "cell_type": "raw",
   "id": "2d7ccdeb",
   "metadata": {},
   "source": [
    "ANS:-inputInt()-->it takes input and returns output as an integer format.\n",
    "     inputFloat()-->it takes input and returns output as a float format.\n",
    "         both are having parameters min(),max(),greaterThan(),lessThan()."
   ]
  },
  {
   "cell_type": "code",
   "execution_count": 1,
   "id": "2b073e4f",
   "metadata": {},
   "outputs": [
    {
     "name": "stdout",
     "output_type": "stream",
     "text": [
      "Requirement already satisfied: pyinputplus in c:\\users\\surya\\desktop\\programs\\ana\\lib\\site-packages (0.2.12)\n",
      "Requirement already satisfied: pysimplevalidate>=0.2.7 in c:\\users\\surya\\desktop\\programs\\ana\\lib\\site-packages (from pyinputplus) (0.2.12)\n",
      "Requirement already satisfied: stdiomask>=0.0.3 in c:\\users\\surya\\desktop\\programs\\ana\\lib\\site-packages (from pyinputplus) (0.0.6)\n",
      "Note: you may need to restart the kernel to use updated packages.\n"
     ]
    }
   ],
   "source": [
    "pip install pyinputplus"
   ]
  },
  {
   "cell_type": "raw",
   "id": "bbf4a405",
   "metadata": {},
   "source": [
    "import pyinputplus as pyip\n",
    "a=pyip.inputInt()\n",
    "b=pyip.inputFloat()"
   ]
  },
  {
   "cell_type": "markdown",
   "id": "2c07f87e",
   "metadata": {},
   "source": [
    "4. Using PyInputPlus, how do you ensure that the user enters a whole number between 0 and 99?"
   ]
  },
  {
   "cell_type": "code",
   "execution_count": 5,
   "id": "7e127915",
   "metadata": {},
   "outputs": [
    {
     "name": "stdout",
     "output_type": "stream",
     "text": [
      "458\n",
      "Number must be at maximum 99.\n",
      "56\n"
     ]
    }
   ],
   "source": [
    "a=pyip.inputInt(min=0,max=99)"
   ]
  },
  {
   "cell_type": "markdown",
   "id": "1bf90761",
   "metadata": {},
   "source": [
    "5. What is transferred to the keyword arguments allowRegexes and blockRegexes?"
   ]
  },
  {
   "cell_type": "raw",
   "id": "df201eba",
   "metadata": {},
   "source": [
    "ANS:-AllowRegexes parameter takes a regular expression that specifies what input is to be allowed. \n",
    "     Blockregexes parameter takes a regex that specifies what user input should not be accepted. \n",
    "     The parameter can take a list of regexes."
   ]
  },
  {
   "cell_type": "markdown",
   "id": "5e7676b7",
   "metadata": {},
   "source": [
    "6. If a blank input is entered three times, what does inputStr(limit=3) do?"
   ]
  },
  {
   "cell_type": "code",
   "execution_count": null,
   "id": "9d0edb2a",
   "metadata": {},
   "outputs": [],
   "source": [
    "ANS:-The statement inputStr(limit=3) will throw two exceptions ValidationException and RetryLimitException. \n",
    "    The first exception is thrown because blank values are not allowed by inputStr() function by default. \n",
    "    it we want to consider blank values as valid input, we have to set blank=True.\n",
    "    The second exception is occured because we have reached the max limit we have specified by using limit parameter. \n",
    "    inorder to avoid this exception we can use default parameter to return a default value when max limit is reached."
   ]
  },
  {
   "cell_type": "markdown",
   "id": "d8c3c5ae",
   "metadata": {},
   "source": [
    "7. If blank input is entered three times, what does inputStr(limit=3, default='hello') do?"
   ]
  },
  {
   "cell_type": "raw",
   "id": "4ed22837",
   "metadata": {},
   "source": [
    "ANS:- Since the default parameter is set to hello. after blank input is entered three times instead of\n",
    "      raisingRetryLimitException exception. the function will return hello as response to the calling function."
   ]
  }
 ],
 "metadata": {
  "kernelspec": {
   "display_name": "Python 3 (ipykernel)",
   "language": "python",
   "name": "python3"
  },
  "language_info": {
   "codemirror_mode": {
    "name": "ipython",
    "version": 3
   },
   "file_extension": ".py",
   "mimetype": "text/x-python",
   "name": "python",
   "nbconvert_exporter": "python",
   "pygments_lexer": "ipython3",
   "version": "3.9.7"
  }
 },
 "nbformat": 4,
 "nbformat_minor": 5
}
